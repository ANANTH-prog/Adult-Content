{
  "nbformat": 4,
  "nbformat_minor": 0,
  "metadata": {
    "colab": {
      "name": "Face and Eye Detection using  Casacde  Classifier",
      "provenance": [],
      "collapsed_sections": [],
      "authorship_tag": "ABX9TyNzPhlLEO3PgF2sj4HWgkWF",
      "include_colab_link": true
    },
    "kernelspec": {
      "name": "python3",
      "display_name": "Python 3"
    }
  },
  "cells": [
    {
      "cell_type": "markdown",
      "metadata": {
        "id": "view-in-github",
        "colab_type": "text"
      },
      "source": [
        "<a href=\"https://colab.research.google.com/github/ANANTH-prog/Adult-Content/blob/master/Face_and_Eye_Detection_using_Casacde_Classifier.ipynb\" target=\"_parent\"><img src=\"https://colab.research.google.com/assets/colab-badge.svg\" alt=\"Open In Colab\"/></a>"
      ]
    },
    {
      "cell_type": "markdown",
      "metadata": {
        "id": "dYuoBD2Qj9Y0",
        "colab_type": "text"
      },
      "source": [
        "Reading ,Writing and Displaying images using opencv"
      ]
    },
    {
      "cell_type": "code",
      "metadata": {
        "id": "Xy8jvkrjOGJ7",
        "colab_type": "code",
        "colab": {}
      },
      "source": [
        "\n",
        "# Press CTRL + ENTER to run this line\n",
        "# You should see an * between the [ ] on the left\n",
        "# OpenCV takes a couple seconds to import the first time\n",
        "\n",
        "import cv2"
      ],
      "execution_count": null,
      "outputs": []
    },
    {
      "cell_type": "code",
      "metadata": {
        "id": "kYGNPrUqj7Ju",
        "colab_type": "code",
        "colab": {}
      },
      "source": [
        "# Now let's import numpy\n",
        "# We use as np, so that everything we call on numpy, we can type np instead\n",
        "# It's short and looks neater\n",
        "\n",
        "import numpy as np"
      ],
      "execution_count": null,
      "outputs": []
    },
    {
      "cell_type": "code",
      "metadata": {
        "id": "AqMWRZDCj7Ot",
        "colab_type": "code",
        "colab": {}
      },
      "source": [
        "# We don't need to do this again, but it's a good habit\n",
        "import cv2 \n",
        "\n",
        "# Load an image using 'imread' specifying the path to image\n",
        "input = cv2.imread('./image_examples/elephant.jpg')\n",
        "\n",
        "# Our file 'input.jpg' is now loaded and stored in python \n",
        "# as a varaible we named 'image'\n",
        "\n",
        "# To display our image variable, we use 'imshow'\n",
        "# The first parameter will be title shown on image window\n",
        "# The second parameter is the image varialbe\n",
        "cv2.imshow('Test Elephant Image', input)\n",
        "\n",
        "# 'waitKey' allows us to input information when a image window is open\n",
        "# By leaving it blank it just waits for anykey to be pressed before \n",
        "# continuing. By placing numbers (except 0), we can specify a delay for\n",
        "# how long you keep the window open (time is in milliseconds here)\n",
        "cv2.waitKey()\n",
        "\n",
        "# This closes all open windows \n",
        "# Failure to place this will cause your program to hang\n",
        "cv2.destroyAllWindows("
      ],
      "execution_count": null,
      "outputs": []
    },
    {
      "cell_type": "code",
      "metadata": {
        "id": "kTh9JRD0j7Uj",
        "colab_type": "code",
        "colab": {}
      },
      "source": [
        "import cv2 \n",
        "\n",
        "input = cv2.imread('./image_examples/elephant.jpg')\n",
        "\n",
        "cv2.imshow('Test Elephant Image', input)\n",
        "cv2.waitKey()\n",
        "cv2.destroyAllWindows()"
      ],
      "execution_count": null,
      "outputs": []
    },
    {
      "cell_type": "markdown",
      "metadata": {
        "id": "4ISYX1p5kcLO",
        "colab_type": "text"
      },
      "source": [
        "Let's take a closer look at how images are stored"
      ]
    },
    {
      "cell_type": "code",
      "metadata": {
        "id": "aUYhwPQCj7Z4",
        "colab_type": "code",
        "colab": {}
      },
      "source": [
        "# Import numpy\n",
        "import numpy as np"
      ],
      "execution_count": null,
      "outputs": []
    },
    {
      "cell_type": "code",
      "metadata": {
        "id": "ECy4ncojj7fd",
        "colab_type": "code",
        "colab": {}
      },
      "source": [
        "\n",
        "print(input.shape)"
      ],
      "execution_count": null,
      "outputs": []
    },
    {
      "cell_type": "markdown",
      "metadata": {
        "id": "4bRA8iA0kq9v",
        "colab_type": "text"
      },
      "source": [
        "Shape gives the dimensions of the image arra"
      ]
    },
    {
      "cell_type": "code",
      "metadata": {
        "id": "7to3CKLzj7eu",
        "colab_type": "code",
        "colab": {}
      },
      "source": [
        "# Let's print each dimension of the image\n",
        "\n",
        "print('Height of Image:', int(input.shape[0]), 'pixels')\n",
        "print('Width of Image: ', int(input.shape[1]), 'pixels')"
      ],
      "execution_count": null,
      "outputs": []
    },
    {
      "cell_type": "markdown",
      "metadata": {
        "id": "CML7lthKkzTJ",
        "colab_type": "text"
      },
      "source": [
        "\n",
        "How do we save images we edit in OpenCV?"
      ]
    },
    {
      "cell_type": "code",
      "metadata": {
        "id": "EOTBfXeHj7ZB",
        "colab_type": "code",
        "colab": {}
      },
      "source": [
        "# Simply use 'imwrite' specificing the file name and the image to be saved\n",
        "cv2.imwrite('output.jpg', input)\n",
        "cv2.imwrite('output.png', input)"
      ],
      "execution_count": null,
      "outputs": []
    },
    {
      "cell_type": "code",
      "metadata": {
        "id": "JYbRy7wSj7Ts",
        "colab_type": "code",
        "colab": {}
      },
      "source": [
        ""
      ],
      "execution_count": null,
      "outputs": []
    },
    {
      "cell_type": "code",
      "metadata": {
        "id": "4s_ns236j7N7",
        "colab_type": "code",
        "colab": {}
      },
      "source": [
        ""
      ],
      "execution_count": null,
      "outputs": []
    },
    {
      "cell_type": "code",
      "metadata": {
        "id": "Ee4dRgXSj7H4",
        "colab_type": "code",
        "colab": {}
      },
      "source": [
        ""
      ],
      "execution_count": null,
      "outputs": []
    }
  ]
}