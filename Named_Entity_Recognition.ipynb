{
  "nbformat": 4,
  "nbformat_minor": 0,
  "metadata": {
    "colab": {
      "name": "Named Entity Recognition.ipynb",
      "provenance": [],
      "collapsed_sections": [],
      "mount_file_id": "1m2kJZ_be78Yc4fxvp9qO_3v7FxGxe42Q",
      "authorship_tag": "ABX9TyPg1RuKOwNctJXv46VXYloB",
      "include_colab_link": true
    },
    "kernelspec": {
      "name": "python3",
      "display_name": "Python 3"
    }
  },
  "cells": [
    {
      "cell_type": "markdown",
      "metadata": {
        "id": "view-in-github",
        "colab_type": "text"
      },
      "source": [
        "<a href=\"https://colab.research.google.com/github/ANANTH-prog/Adult-Content/blob/master/Named_Entity_Recognition.ipynb\" target=\"_parent\"><img src=\"https://colab.research.google.com/assets/colab-badge.svg\" alt=\"Open In Colab\"/></a>"
      ]
    },
    {
      "cell_type": "code",
      "metadata": {
        "id": "ddXC0mWcUPje",
        "colab_type": "code",
        "colab": {
          "base_uri": "https://localhost:8080/",
          "height": 255
        },
        "outputId": "4099520c-9464-40e2-b4ea-8f110cabda96"
      },
      "source": [
        "import spacy\n",
        "import numpy as np\n",
        "import pandas as pd\n",
        "\n",
        "nlp = spacy.load('en')\n",
        "text = (\"When Sebastian Thrun started working on self-driving cars at \"\n",
        "        \"Google in 2007, few people outside of the company took him \"\n",
        "        \"seriously. “I can tell you very senior CEOs of major American \"\n",
        "        \"car companies would shake my hand and turn away because I wasn’t \"\n",
        "        \"worth talking to,” said Thrun, in an interview with Recode earlier \"\n",
        "        \"this week.\")\n",
        "doc = nlp(text)\n",
        "words = []\n",
        "labels = []\n",
        "\n",
        "for token in doc:\n",
        "\twords.append(token.text)\n",
        "\tlabels.append('O') # As most of token will be non-entity (OUT). Replace this later with actual entity a/c the scheme.\n",
        "\n",
        "df = pd.DataFrame({'word': words, 'label': labels})\n",
        "#df.to_csv('ner-token-per-line.biluo', index=False) # biluo in extension to indicate the type of encoding, it is ok to keep csv\n",
        "\n",
        "print(df)\n"
      ],
      "execution_count": null,
      "outputs": [
        {
          "output_type": "stream",
          "text": [
            "         word label\n",
            "0        When     O\n",
            "1   Sebastian     O\n",
            "2       Thrun     O\n",
            "3     started     O\n",
            "4     working     O\n",
            "..        ...   ...\n",
            "61     Recode     O\n",
            "62    earlier     O\n",
            "63       this     O\n",
            "64       week     O\n",
            "65          .     O\n",
            "\n",
            "[66 rows x 2 columns]\n"
          ],
          "name": "stdout"
        }
      ]
    },
    {
      "cell_type": "code",
      "metadata": {
        "id": "WH9Im_txU4yb",
        "colab_type": "code",
        "colab": {
          "base_uri": "https://localhost:8080/",
          "height": 136
        },
        "outputId": "bb43f0dd-f632-48d6-a47b-dab4c66e4394"
      },
      "source": [
        "# Load SpaCy model\n",
        "nlp = spacy.load(\"en_core_web_sm\")\n",
        "#nlp = spacy.load(\"en_core_web_md\")\n",
        "#nlp = spacy.load(\"en_core_web_lg\")\n",
        "doc = nlp(text)\n",
        "\n",
        "entities = []\n",
        "labels = []\n",
        "position_start = []\n",
        "position_end = []\n",
        "\n",
        "for ent in doc.ents:\n",
        "    entities.append(ent)\n",
        "    labels.append(ent.label_)\n",
        "    position_start.append(ent.start_char)\n",
        "    position_end.append(ent.end_char)\n",
        "    \n",
        "df = pd.DataFrame({'Entities':entities,'Labels':labels,'Position_Start':position_start, 'Position_End':position_end})\n",
        "\n",
        "print(df)"
      ],
      "execution_count": null,
      "outputs": [
        {
          "output_type": "stream",
          "text": [
            "                Entities Labels  Position_Start  Position_End\n",
            "0            (Sebastian)   NORP               5            14\n",
            "1               (Google)    ORG              61            67\n",
            "2                 (2007)   DATE              71            75\n",
            "3             (American)   NORP             173           181\n",
            "4               (Recode)    ORG             299           305\n",
            "5  (earlier, this, week)   DATE             306           323\n"
          ],
          "name": "stdout"
        }
      ]
    },
    {
      "cell_type": "code",
      "metadata": {
        "id": "gRoYNkrwVMSB",
        "colab_type": "code",
        "colab": {
          "base_uri": "https://localhost:8080/",
          "height": 87
        },
        "outputId": "6e9ea4f8-ca74-4260-895c-96ec4f282ae6"
      },
      "source": [
        "from spacy import displacy\n",
        "displacy.render(doc,style='ent',jupyter=True)"
      ],
      "execution_count": null,
      "outputs": [
        {
          "output_type": "display_data",
          "data": {
            "text/html": [
              "<span class=\"tex2jax_ignore\"><div class=\"entities\" style=\"line-height: 2.5; direction: ltr\">When \n",
              "<mark class=\"entity\" style=\"background: #c887fb; padding: 0.45em 0.6em; margin: 0 0.25em; line-height: 1; border-radius: 0.35em;\">\n",
              "    Sebastian\n",
              "    <span style=\"font-size: 0.8em; font-weight: bold; line-height: 1; border-radius: 0.35em; text-transform: uppercase; vertical-align: middle; margin-left: 0.5rem\">NORP</span>\n",
              "</mark>\n",
              " Thrun started working on self-driving cars at \n",
              "<mark class=\"entity\" style=\"background: #7aecec; padding: 0.45em 0.6em; margin: 0 0.25em; line-height: 1; border-radius: 0.35em;\">\n",
              "    Google\n",
              "    <span style=\"font-size: 0.8em; font-weight: bold; line-height: 1; border-radius: 0.35em; text-transform: uppercase; vertical-align: middle; margin-left: 0.5rem\">ORG</span>\n",
              "</mark>\n",
              " in \n",
              "<mark class=\"entity\" style=\"background: #bfe1d9; padding: 0.45em 0.6em; margin: 0 0.25em; line-height: 1; border-radius: 0.35em;\">\n",
              "    2007\n",
              "    <span style=\"font-size: 0.8em; font-weight: bold; line-height: 1; border-radius: 0.35em; text-transform: uppercase; vertical-align: middle; margin-left: 0.5rem\">DATE</span>\n",
              "</mark>\n",
              ", few people outside of the company took him seriously. “I can tell you very senior CEOs of major \n",
              "<mark class=\"entity\" style=\"background: #c887fb; padding: 0.45em 0.6em; margin: 0 0.25em; line-height: 1; border-radius: 0.35em;\">\n",
              "    American\n",
              "    <span style=\"font-size: 0.8em; font-weight: bold; line-height: 1; border-radius: 0.35em; text-transform: uppercase; vertical-align: middle; margin-left: 0.5rem\">NORP</span>\n",
              "</mark>\n",
              " car companies would shake my hand and turn away because I wasn’t worth talking to,” said Thrun, in an interview with \n",
              "<mark class=\"entity\" style=\"background: #7aecec; padding: 0.45em 0.6em; margin: 0 0.25em; line-height: 1; border-radius: 0.35em;\">\n",
              "    Recode\n",
              "    <span style=\"font-size: 0.8em; font-weight: bold; line-height: 1; border-radius: 0.35em; text-transform: uppercase; vertical-align: middle; margin-left: 0.5rem\">ORG</span>\n",
              "</mark>\n",
              " \n",
              "<mark class=\"entity\" style=\"background: #bfe1d9; padding: 0.45em 0.6em; margin: 0 0.25em; line-height: 1; border-radius: 0.35em;\">\n",
              "    earlier this week\n",
              "    <span style=\"font-size: 0.8em; font-weight: bold; line-height: 1; border-radius: 0.35em; text-transform: uppercase; vertical-align: middle; margin-left: 0.5rem\">DATE</span>\n",
              "</mark>\n",
              ".</div></span>"
            ],
            "text/plain": [
              "<IPython.core.display.HTML object>"
            ]
          },
          "metadata": {
            "tags": []
          }
        }
      ]
    },
    {
      "cell_type": "code",
      "metadata": {
        "id": "e1KslYUQVX4Y",
        "colab_type": "code",
        "colab": {
          "base_uri": "https://localhost:8080/",
          "height": 35
        },
        "outputId": "fd22ac5c-f3e5-4e6c-f0fc-ffc3fca7f69f"
      },
      "source": [
        "spacy.explain('ORG')\n",
        "spacy.explain('NORP')\n",
        "spacy.explain('PERSON')"
      ],
      "execution_count": null,
      "outputs": [
        {
          "output_type": "execute_result",
          "data": {
            "application/vnd.google.colaboratory.intrinsic+json": {
              "type": "string"
            },
            "text/plain": [
              "'People, including fictional'"
            ]
          },
          "metadata": {
            "tags": []
          },
          "execution_count": 57
        }
      ]
    },
    {
      "cell_type": "code",
      "metadata": {
        "id": "7yEQqMR9ViGK",
        "colab_type": "code",
        "colab": {}
      },
      "source": [
        "## entity to identify dog\n",
        "import pandas as pd\n",
        "import numpy as np\n",
        "import spacy\n",
        "from wordcloud import WordCloud,STOPWORDS\n",
        "from spacy.util import minibatch,compounding\n"
      ],
      "execution_count": null,
      "outputs": []
    },
    {
      "cell_type": "code",
      "metadata": {
        "id": "7F7033F6ViUN",
        "colab_type": "code",
        "colab": {}
      },
      "source": [
        "import matplotlib.pyplot as plt\n",
        "import re\n",
        "import random"
      ],
      "execution_count": null,
      "outputs": []
    },
    {
      "cell_type": "code",
      "metadata": {
        "id": "R-zgTj05Vii6",
        "colab_type": "code",
        "colab": {
          "base_uri": "https://localhost:8080/",
          "height": 442
        },
        "outputId": "9ef38dfe-c4d1-4fd7-df14-9e411f82ae15"
      },
      "source": [
        "#load dataset\n",
        "import pandas as pd\n",
        "df=pd.read_csv(\"/content/drive/My Drive/2007.csv\")\n",
        "df.to_csv('review', index=False) # biluo in extension to indicate the type of encoding, it is ok to keep csv\n",
        "\n",
        "print(df)\n",
        "\n",
        "df.head()\n"
      ],
      "execution_count": null,
      "outputs": [
        {
          "output_type": "stream",
          "text": [
            "                      LicenseType  ...         ValidDate\n",
            "0           Dog Individual Female  ...  05-01-2007 15:15\n",
            "1           Dog Individual Female  ...  05-01-2007 15:15\n",
            "2    Dog Individual Neutered Male  ...  04-11-2007 15:14\n",
            "3             Dog Individual Male  ...  04-05-2007 15:00\n",
            "4    Dog Individual Spayed Female  ...   5/25/2007 12:15\n",
            "..                            ...  ...               ...\n",
            "493  Dog Individual Neutered Male  ...   5/31/2007 10:42\n",
            "494  Dog Individual Neutered Male  ...   5/29/2007 10:19\n",
            "495  Dog Individual Spayed Female  ...   7/16/2007 11:19\n",
            "496           Dog Individual Male  ...  03-01-2007 16:07\n",
            "497  Dog Individual Spayed Female  ...  10/16/2007 12:42\n",
            "\n",
            "[498 rows x 7 columns]\n"
          ],
          "name": "stdout"
        },
        {
          "output_type": "execute_result",
          "data": {
            "text/html": [
              "<div>\n",
              "<style scoped>\n",
              "    .dataframe tbody tr th:only-of-type {\n",
              "        vertical-align: middle;\n",
              "    }\n",
              "\n",
              "    .dataframe tbody tr th {\n",
              "        vertical-align: top;\n",
              "    }\n",
              "\n",
              "    .dataframe thead th {\n",
              "        text-align: right;\n",
              "    }\n",
              "</style>\n",
              "<table border=\"1\" class=\"dataframe\">\n",
              "  <thead>\n",
              "    <tr style=\"text-align: right;\">\n",
              "      <th></th>\n",
              "      <th>LicenseType</th>\n",
              "      <th>Breed</th>\n",
              "      <th>Color</th>\n",
              "      <th>DogName</th>\n",
              "      <th>OwnerZip</th>\n",
              "      <th>ExpYear</th>\n",
              "      <th>ValidDate</th>\n",
              "    </tr>\n",
              "  </thead>\n",
              "  <tbody>\n",
              "    <tr>\n",
              "      <th>0</th>\n",
              "      <td>Dog Individual Female</td>\n",
              "      <td>AM PIT BULL TERRIER</td>\n",
              "      <td>SPOTTED</td>\n",
              "      <td>BUTTER</td>\n",
              "      <td>15001</td>\n",
              "      <td>2007</td>\n",
              "      <td>05-01-2007 15:15</td>\n",
              "    </tr>\n",
              "    <tr>\n",
              "      <th>1</th>\n",
              "      <td>Dog Individual Female</td>\n",
              "      <td>AM PIT BULL TERRIER</td>\n",
              "      <td>BROWN</td>\n",
              "      <td>SABLE</td>\n",
              "      <td>15001</td>\n",
              "      <td>2007</td>\n",
              "      <td>05-01-2007 15:15</td>\n",
              "    </tr>\n",
              "    <tr>\n",
              "      <th>2</th>\n",
              "      <td>Dog Individual Neutered Male</td>\n",
              "      <td>MIXED</td>\n",
              "      <td>.</td>\n",
              "      <td>YIP</td>\n",
              "      <td>15001</td>\n",
              "      <td>2007</td>\n",
              "      <td>04-11-2007 15:14</td>\n",
              "    </tr>\n",
              "    <tr>\n",
              "      <th>3</th>\n",
              "      <td>Dog Individual Male</td>\n",
              "      <td>DOBERMAN PINSCHER</td>\n",
              "      <td>RED</td>\n",
              "      <td>SABER</td>\n",
              "      <td>15003</td>\n",
              "      <td>2007</td>\n",
              "      <td>04-05-2007 15:00</td>\n",
              "    </tr>\n",
              "    <tr>\n",
              "      <th>4</th>\n",
              "      <td>Dog Individual Spayed Female</td>\n",
              "      <td>MIXED</td>\n",
              "      <td>BLACK</td>\n",
              "      <td>DAISY</td>\n",
              "      <td>15003</td>\n",
              "      <td>2007</td>\n",
              "      <td>5/25/2007 12:15</td>\n",
              "    </tr>\n",
              "  </tbody>\n",
              "</table>\n",
              "</div>"
            ],
            "text/plain": [
              "                    LicenseType                Breed  ... ExpYear         ValidDate\n",
              "0         Dog Individual Female  AM PIT BULL TERRIER  ...    2007  05-01-2007 15:15\n",
              "1         Dog Individual Female  AM PIT BULL TERRIER  ...    2007  05-01-2007 15:15\n",
              "2  Dog Individual Neutered Male                MIXED  ...    2007  04-11-2007 15:14\n",
              "3           Dog Individual Male    DOBERMAN PINSCHER  ...    2007  04-05-2007 15:00\n",
              "4  Dog Individual Spayed Female                MIXED  ...    2007   5/25/2007 12:15\n",
              "\n",
              "[5 rows x 7 columns]"
            ]
          },
          "metadata": {
            "tags": []
          },
          "execution_count": 61
        }
      ]
    },
    {
      "cell_type": "code",
      "metadata": {
        "id": "emT_SKjFVioL",
        "colab_type": "code",
        "colab": {
          "base_uri": "https://localhost:8080/",
          "height": 34
        },
        "outputId": "aef35f1e-8077-44dd-cc9e-5afdee7ed76d"
      },
      "source": [
        "nlp0=spacy.load('en_core_web_sm')\n",
        "#get all components of nlp\n",
        "nlp0.pipe_names"
      ],
      "execution_count": null,
      "outputs": [
        {
          "output_type": "execute_result",
          "data": {
            "text/plain": [
              "['tagger', 'parser', 'ner']"
            ]
          },
          "metadata": {
            "tags": []
          },
          "execution_count": 62
        }
      ]
    },
    {
      "cell_type": "code",
      "metadata": {
        "id": "xj-NwGkcVim9",
        "colab_type": "code",
        "colab": {}
      },
      "source": [
        "ner0=nlp0.get_pipe('ner')\n",
        "ner0.add_label(0)"
      ],
      "execution_count": 85,
      "outputs": []
    },
    {
      "cell_type": "code",
      "metadata": {
        "id": "7yN8GDbrVihD",
        "colab_type": "code",
        "colab": {}
      },
      "source": [
        "#ex1\n",
        "ex1=\"james went to london to buy BICHON FRISE last year 2019\"\n",
        "docx=nlp0(ex1)\n",
        "\n"
      ],
      "execution_count": 86,
      "outputs": []
    },
    {
      "cell_type": "code",
      "metadata": {
        "id": "YijyBbN0ZiR8",
        "colab_type": "code",
        "colab": {
          "base_uri": "https://localhost:8080/",
          "height": 34
        },
        "outputId": "c0df27e1-4242-402d-dc12-c44f282f6ddd"
      },
      "source": [
        "type(docx)"
      ],
      "execution_count": null,
      "outputs": [
        {
          "output_type": "execute_result",
          "data": {
            "text/plain": [
              "spacy.tokens.doc.Doc"
            ]
          },
          "metadata": {
            "tags": []
          },
          "execution_count": 65
        }
      ]
    },
    {
      "cell_type": "code",
      "metadata": {
        "id": "0fastcp9ZiXA",
        "colab_type": "code",
        "colab": {
          "base_uri": "https://localhost:8080/",
          "height": 85
        },
        "outputId": "5f9f72d7-74c7-449d-ce50-be6d601cba62"
      },
      "source": [
        "#check for entities\n",
        "for entity in docx.ents:\n",
        "    print(entity,entity.label_)"
      ],
      "execution_count": null,
      "outputs": [
        {
          "output_type": "stream",
          "text": [
            "james PERSON\n",
            "london GPE\n",
            "BICHON FRISE ORG\n",
            "last year 2019 DATE\n"
          ],
          "name": "stdout"
        }
      ]
    },
    {
      "cell_type": "code",
      "metadata": {
        "id": "deAJR95AZidS",
        "colab_type": "code",
        "colab": {}
      },
      "source": [
        "def process_review(review):\n",
        "    processed_token=[]\n",
        "    for token in review.split():\n",
        "        token=''.join(e.lower() for e in token if e.isalnum())\n",
        "        processed_token.append(token)\n",
        "    return ' '.join(processed_token)   "
      ],
      "execution_count": null,
      "outputs": []
    },
    {
      "cell_type": "code",
      "metadata": {
        "id": "ydr99cUjZjFL",
        "colab_type": "code",
        "colab": {}
      },
      "source": [
        "# Try to train the dog breed names\n",
        "all_breed=df['Breed'].unique().tolist()"
      ],
      "execution_count": null,
      "outputs": []
    },
    {
      "cell_type": "code",
      "metadata": {
        "id": "oALUKildZjJ9",
        "colab_type": "code",
        "colab": {
          "base_uri": "https://localhost:8080/",
          "height": 1000
        },
        "outputId": "e0fb1837-ff95-48be-f01c-ce070a630b90"
      },
      "source": [
        "all_breed\n"
      ],
      "execution_count": null,
      "outputs": [
        {
          "output_type": "execute_result",
          "data": {
            "text/plain": [
              "['AM PIT BULL TERRIER',\n",
              " 'MIXED',\n",
              " 'DOBERMAN PINSCHER',\n",
              " 'RAT TERRIER',\n",
              " 'GER SHEPHERD',\n",
              " 'POMERANIAN',\n",
              " 'BEAGLE',\n",
              " 'AM ESKIMO DOG',\n",
              " 'COLLIE MIX',\n",
              " 'SIB HUSKY',\n",
              " 'BOXER',\n",
              " 'AUS SHEPHERD',\n",
              " 'CHIHUAHUA MIX',\n",
              " 'BOXER MIX',\n",
              " 'SILKY TERRIER',\n",
              " 'SHIH TZU',\n",
              " 'MIN PINSCHER',\n",
              " 'TERRIER',\n",
              " 'DACHSHUND',\n",
              " 'BICHON FRISE',\n",
              " 'LABRADOR RETRIEVER',\n",
              " 'LAB MIX',\n",
              " 'PARSON RUSSELL TERR',\n",
              " 'BRITTANY SPANIEL',\n",
              " 'POODLE TOY',\n",
              " 'POODLE MIN',\n",
              " 'BORD COLLIE MIX',\n",
              " 'CHIHUAHUA',\n",
              " 'GOLDEN RETRIEVER',\n",
              " 'ENG SPRINGER SPANIE',\n",
              " 'LHASA APSO',\n",
              " 'BEARDED COLLIE',\n",
              " 'LLEWELLIN SETTER',\n",
              " 'LABRADOODLE',\n",
              " 'AKITA',\n",
              " 'TAG',\n",
              " 'ROTTWEILER',\n",
              " 'LHASA APSO MIX',\n",
              " 'COCKER SPANIEL',\n",
              " 'GER SHEPHERD MIX',\n",
              " 'SIB HUSKY MIX',\n",
              " 'YORKSHIRE TERR MIX',\n",
              " 'ENG BULLDOG',\n",
              " 'DACHSHUND MIX',\n",
              " 'YORKSHIRE TERRIER',\n",
              " 'POINTER',\n",
              " 'COCKAPOO',\n",
              " 'ENG SETTER',\n",
              " 'SCHNAUZER STANDARD',\n",
              " 'SHETLAND SHEEPDOG',\n",
              " 'KEESHOND',\n",
              " 'BASSET HOUND',\n",
              " 'ITALIAN GREYHOUND',\n",
              " 'BOUVIER DES FLANDRE',\n",
              " 'PUG',\n",
              " 'POODLE STANDARD',\n",
              " 'ROTTWEILER MIX',\n",
              " 'GOLDEN RETRIEV MIX',\n",
              " 'BORD COLLIE',\n",
              " 'SHIBA INU',\n",
              " 'FOX TERRIER TOY',\n",
              " 'POODLE MIX',\n",
              " 'GER SHORTHAIR POINT',\n",
              " 'TERRIER MIX',\n",
              " 'PAPILLON',\n",
              " 'AIREDALE TERRIER',\n",
              " 'BEAGLE MIX',\n",
              " 'GREAT DANE',\n",
              " 'DALMATION MIX',\n",
              " 'BOSTON TERRIER',\n",
              " 'GREAT PYRENEES',\n",
              " 'SHEPHERD MIX',\n",
              " 'GREYHOUND',\n",
              " 'BULL TERRIER',\n",
              " 'WELSH CORGI CARDIGA',\n",
              " 'ST BERNARD',\n",
              " 'WEIMARANER',\n",
              " 'CAIRN TERRIER',\n",
              " 'GOLDENDOODLE',\n",
              " 'BULLDOG',\n",
              " 'MALTESE MIX',\n",
              " 'MALTESE',\n",
              " 'DALMATIAN',\n",
              " 'PEEKAPOO',\n",
              " 'W HGHLND WH TERRIER',\n",
              " 'BERNESE MTN DOG',\n",
              " 'FRENCH BULLDOG',\n",
              " 'BISHON FRISE MIX',\n",
              " 'AM PITT BULL MIX',\n",
              " 'COLLIE',\n",
              " 'ENGLISH MASTIFF',\n",
              " 'MANCHESTER TERRIER',\n",
              " 'MASTIFF']"
            ]
          },
          "metadata": {
            "tags": []
          },
          "execution_count": 69
        }
      ]
    },
    {
      "cell_type": "code",
      "metadata": {
        "id": "Z24bKSHLZjO4",
        "colab_type": "code",
        "colab": {
          "base_uri": "https://localhost:8080/",
          "height": 221
        },
        "outputId": "b96ba258-e6fb-4b01-b228-6a705e27e9ae"
      },
      "source": [
        "df['DogName']"
      ],
      "execution_count": null,
      "outputs": [
        {
          "output_type": "execute_result",
          "data": {
            "text/plain": [
              "0         BUTTER\n",
              "1          SABLE\n",
              "2            YIP\n",
              "3          SABER\n",
              "4          DAISY\n",
              "         ...    \n",
              "493    TALAMASCA\n",
              "494        BUDDY\n",
              "495    LADY STAR\n",
              "496        ANGUS\n",
              "497          ZOE\n",
              "Name: DogName, Length: 498, dtype: object"
            ]
          },
          "metadata": {
            "tags": []
          },
          "execution_count": 70
        }
      ]
    },
    {
      "cell_type": "code",
      "metadata": {
        "id": "OXeaT0IqZjDp",
        "colab_type": "code",
        "colab": {}
      },
      "source": [
        "count=0\n",
        "TRAIN_DATA=[]\n",
        "for _,item in df.iterrows():\n",
        "    ent_dict={}\n",
        "    if count<1000:\n",
        "        name=process_review(item['Breed'])\n",
        "        visited_items=[]\n",
        "        entities=[]\n",
        "        for token in name.split():\n",
        "            if token in name:\n",
        "                for i in re.finditer(token,name):\n",
        "                    if token not in visited_items:\n",
        "                        entity=(i.span()[0],i.span()[1],'DOG')\n",
        "                        visited_items.append(token)\n",
        "                        entities.append(entity)\n",
        "if len(entities)>0:\n",
        "    ent_dict['entities']=entities\n",
        "    train_item=(name,ent_dict)\n",
        "    TRAIN_DATA.append(train_item)\n",
        "    count+=1"
      ],
      "execution_count": null,
      "outputs": []
    },
    {
      "cell_type": "code",
      "metadata": {
        "id": "QcHWCmRZZicL",
        "colab_type": "code",
        "colab": {
          "base_uri": "https://localhost:8080/",
          "height": 34
        },
        "outputId": "3e4b7c70-eb40-4fa6-b6f6-50ad289f84d2"
      },
      "source": [
        "TRAIN_DATA"
      ],
      "execution_count": null,
      "outputs": [
        {
          "output_type": "execute_result",
          "data": {
            "text/plain": [
              "[('bichon frise', {'entities': [(0, 6, 'DOG'), (7, 12, 'DOG')]})]"
            ]
          },
          "metadata": {
            "tags": []
          },
          "execution_count": 72
        }
      ]
    },
    {
      "cell_type": "code",
      "metadata": {
        "id": "1P-HXUYLvI65",
        "colab_type": "code",
        "colab": {
          "base_uri": "https://localhost:8080/",
          "height": 1000
        },
        "outputId": "6619f8c4-ca10-4642-a134-d03dc75f3053"
      },
      "source": [
        "dpath = '/content/review'\n",
        "print(dpath)\n",
        "\n",
        "df2 = pd.read_csv(dpath, sep=',')\n",
        "\n",
        "df3=df2.to_string()\n",
        "\n",
        "from spacy.gold import GoldParse\n",
        "\n",
        "doc = nlp.make_doc(df3)\n",
        "g = GoldParse(doc, entities)\n",
        "X = [doc]\n",
        "Y = [g]\n",
        "print(X)\n"
      ],
      "execution_count": null,
      "outputs": [
        {
          "output_type": "stream",
          "text": [
            "/content/review\n",
            "[                                        LicenseType                Breed              Color            DogName  OwnerZip  ExpYear         ValidDate\n",
            "0                             Dog Individual Female  AM PIT BULL TERRIER            SPOTTED             BUTTER     15001     2007  05-01-2007 15:15\n",
            "1                             Dog Individual Female  AM PIT BULL TERRIER              BROWN              SABLE     15001     2007  05-01-2007 15:15\n",
            "2                      Dog Individual Neutered Male                MIXED                  .                YIP     15001     2007  04-11-2007 15:14\n",
            "3                               Dog Individual Male    DOBERMAN PINSCHER                RED              SABER     15003     2007  04-05-2007 15:00\n",
            "4                      Dog Individual Spayed Female                MIXED              BLACK              DAISY     15003     2007   5/25/2007 12:15\n",
            "5                      Dog Individual Neutered Male                MIXED            SPOTTED            SCOOTER     15003     2007   6/19/2007 12:13\n",
            "6                      Dog Individual Spayed Female          RAT TERRIER              MULTI              TINKY     15003     2007   7/13/2007 13:35\n",
            "7                             Dog Individual Female         GER SHEPHERD        BLACK/BROWN              AMICA     15003     2007   2/27/2007 11:52\n",
            "8    Dog Senior Citizen or Disability Spayed Female           POMERANIAN                TAN              TAFFY     15003     2007  03-12-2007 15:57\n",
            "9                      Dog Individual Spayed Female               BEAGLE            SPOTTED              BELLE     15003     2007    1/26/2007 9:24\n",
            "10                 Dog Individual License Duplicate               BEAGLE            SPOTTED              BELLE     15003     2007    1/26/2007 9:47\n",
            "11                            Dog Individual Female        AM ESKIMO DOG              WHITE              SASHA     15003     2007   5/25/2007 11:31\n",
            "12                     Dog Individual Neutered Male           COLLIE MIX        BLACK/BROWN            GRIZZLY     15003     2007  03-02-2007 08:24\n",
            "13                              Dog Individual Male         GER SHEPHERD        BLACK/BROWN           HERCULES     15003     2007  03-02-2007 08:24\n",
            "14                     Dog Individual Neutered Male            SIB HUSKY        WHITE/BLACK            DAYTONA     15003     2007  03-02-2007 08:24\n",
            "15                            Dog Individual Female                BOXER              BROWN              CHLOE     15003     2007  06-07-2007 14:24\n",
            "16                     Dog Individual Neutered Male                MIXED        WHITE/BROWN                MAX     15003     2007  09-06-2007 13:09\n",
            "17                            Dog Individual Female         AUS SHEPHERD        WHITE/BLACK               MAIA     15003     2007   1/16/2007 15:50\n",
            "18                            Dog Individual Female        CHIHUAHUA MIX        WHITE/BEIGE             BUDDIE     15003     2007   1/22/2007 13:22\n",
            "19                     Dog Individual Neutered Male            BOXER MIX              WHITE               TROY     15003     2007  02-09-2007 15:56\n",
            "20                     Dog Individual Neutered Male        SILKY TERRIER  WHITE/BLACK/BROWN               NICO     15003     2007  02-12-2007 14:42\n",
            "21                              Dog Individual Male             SHIH TZU        BLACK/BROWN               CODY     15003     2007   3/28/2007 13:46\n",
            "22                            Dog Individual Female         MIN PINSCHER                RED              DAISY     15003     2007  06-12-2007 14:16\n",
            "23                     Dog Individual Spayed Female              TERRIER                TAN           PRINCESS     15003     2007  08-03-2007 14:52\n",
            "24                     Dog Individual Spayed Female          RAT TERRIER        WHITE/BLACK               LUCY     15003     2007   3/16/2007 13:55\n",
            "25                              Dog Individual Male            DACHSHUND                RED               LADY     15003     2007   3/15/2007 14:12\n",
            "26                     Dog Individual Neutered Male         BICHON FRISE              WHITE             BUMPER     15003     2007  01-08-2007 10:49\n",
            "27                     Dog Individual Spayed Female   LABRADOR RETRIEVER               GOLD               ABBY     15003     2007    5/23/2007 9:28\n",
            "28                     Dog Individual Neutered Male         GER SHEPHERD              WHITE             CEASAR     15003     2007   4/17/2007 16:10\n",
            "29                              Dog Individual Male              LAB MIX             YELLOW             BAXTER     15003     2007   1/24/2007 14:25\n",
            "30                     Dog Individual Neutered Male   LABRADOR RETRIEVER              BROWN             GUNNER     15003     2007  02-02-2007 13:41\n",
            "31          Dog Senior Citizen or Disability Female  PARSON RUSSELL TERR        WHITE/BROWN               LEXI     15003     2007   2/27/2007 15:04\n",
            "32                     Dog Individual Spayed Female   LABRADOR RETRIEVER              BROWN              PENNY     15003     2007  10-02-2007 12:31\n",
            "33                     Dog Individual Neutered Male     BRITTANY SPANIEL        WHITE/LIVER              SPORT     15005     2007   2/28/2007 13:46\n",
            "34                     Dog Individual Spayed Female   LABRADOR RETRIEVER              BROWN              CASEY     15005     2007  12/27/2006 14:50\n",
            "35                     Dog Individual Neutered Male           POODLE TOY              BLACK              BASEL     15005     2007   2/21/2007 15:41\n",
            "36                     Dog Individual Neutered Male           POODLE MIN            APRICOT            BENTLEY     15005     2007   2/21/2007 15:41\n",
            "37                     Dog Individual Spayed Female           COLLIE MIX  WHITE/BLACK/BROWN             SHELBY     15005     2007   2/27/2007 12:06\n",
            "38                     Dog Individual Neutered Male      BORD COLLIE MIX        WHITE/BLACK               THOR     15005     2007  02-08-2007 15:54\n",
            "39                     Dog Individual Spayed Female            SIB HUSKY         WHITE/GREY              NIKKI     15005     2007  02-08-2007 15:54\n",
            "40                     Dog Individual Neutered Male   LABRADOR RETRIEVER             BLONDE             BAILLY     15005     2007   1/24/2007 10:32\n",
            "41                     Dog Individual Neutered Male   LABRADOR RETRIEVER              BLACK               BEAR     15005     2007   1/24/2007 10:32\n",
            "42                     Dog Individual Neutered Male            CHIHUAHUA              MULTI              MOOSE     15005     2007  01-11-2007 14:16\n",
            "43                     Dog Individual Neutered Male                MIXED        WHITE/BLACK              BORIS     15005     2007   5/18/2007 14:29\n",
            "44                     Dog Individual Neutered Male     GOLDEN RETRIEVER              OTHER     GRENDEL WALTON     15005     2007  02-01-2007 16:02\n",
            "45                     Dog Individual Spayed Female                MIXED            BRINDLE               TORI     15005     2007   2/16/2007 15:34\n",
            "46                     Dog Individual Neutered Male     GOLDEN RETRIEVER               GOLD              SONNY     15005     2007    2/15/2007 9:01\n",
            "47                     Dog Individual Neutered Male  ENG SPRINGER SPANIE        WHITE/BLACK            PATCHES     15005     2007  10-01-2007 15:42\n",
            "48   Dog Senior Citizen or Disability Neutered Male           LHASA APSO        WHITE/BROWN            TREMELO     15005     2007  04-12-2007 16:09\n",
            "49                     Dog Individual Neutered Male       BEARDED COLLIE               FAWN               OTIS     15005     2007  02-09-2007 10:00\n",
            "50                     Dog Individual Neutered Male               BEAGLE              BLACK             MERLIN     15005     2007   5/29/2007 15:19\n",
            "51                     Dog Individual Neutered Male                MIXED                TAN               BEAR     15005     2007   5/29/2007 15:19\n",
            "52                     Dog Individual Spayed Female     GOLDEN RETRIEVER               GOLD               NINA     15005     2007  04-11-2007 13:50\n",
            "53                              Dog Individual Male     LLEWELLIN SETTER            SPOTTED               RUFF     15005     2007  03-05-2007 13:08\n",
            "54                     Dog Individual Neutered Male          LABRADOODLE             YELLOW               JAKE     15005     2007   6/15/2007 15:15\n",
            "55                     Dog Individual Neutered Male                AKITA              WHITE              OZZIE     15005     2007  03-07-2007 08:44\n",
            "56                     Dog Individual Neutered Male         BICHON FRISE              WHITE              PUFFY     15005     2007   1/18/2007 14:52\n",
            "57                     Dog Individual Neutered Male   LABRADOR RETRIEVER             YELLOW             BAILEY     15005     2007   6/18/2007 10:43\n",
            "58                     Dog Individual Spayed Female               BEAGLE              MULTI               LUCY     15005     2007   2/26/2007 16:09\n",
            "59                     Dog Individual Spayed Female               BEAGLE              MULTI             PEANUT     15005     2007   2/26/2007 16:09\n",
            "60                     Dog Individual Spayed Female                  TAG  WHITE/BLACK/BROWN           DUTCHESS     15005     2007   3/14/2007 15:11\n",
            "61                     Dog Individual Spayed Female   LABRADOR RETRIEVER              BLACK                ZOE     15005     2007   1/23/2007 12:08\n",
            "62                     Dog Individual Spayed Female           ROTTWEILER        BLACK/BROWN             FLUFFY     15005     2007   4/30/2007 15:51\n",
            "63   Dog Senior Citizen or Disability Neutered Male       LHASA APSO MIX        WHITE/BROWN             BOOGER     15005     2007  09-06-2007 14:00\n",
            "64                     Dog Individual Neutered Male     GOLDEN RETRIEVER               GOLD              TEDDY     15005     2007   7/17/2007 10:58\n",
            "65                              Dog Individual Male       COCKER SPANIEL        WHITE/BLACK                LEO     15006     2007  03-06-2007 13:19\n",
            "66   Dog Senior Citizen or Disability Spayed Female     GER SHEPHERD MIX  WHITE/BLACK/BROWN               BREE     15006     2007   4/24/2007 14:47\n",
            "67                     Dog Individual Spayed Female               BEAGLE              MULTI             SOPHIE     15006     2007   6/13/2007 13:56\n",
            "68                     Dog Individual Spayed Female               BEAGLE              MULTI             SOPHIE     15006     2007  04-06-2007 12:39\n",
            "69                              Dog Individual Male   LABRADOR RETRIEVER             YELLOW              BUDDY     15006     2007               NaN\n",
            "70                              Dog Individual Male   LABRADOR RETRIEVER             YELLOW              BUDDY     15006     2007   9/19/2007 16:03\n",
            "71                     Dog Individual Spayed Female                MIXED              BLACK               NOLA     15006     2007  03-01-2007 14:35\n",
            "72                     Dog Individual Spayed Female        SIB HUSKY MIX        WHITE/BLACK             SIERRA     15006     2007    3/28/2007 8:41\n",
            "73                     Dog Individual Spayed Female  AM PIT BULL TERRIER        WHITE/BROWN               XENA     15006     2007  01-09-2007 14:29\n",
            "74                     Dog Individual Spayed Female   YORKSHIRE TERR MIX              BLACK              KLOEY     15006     2007   1/17/2007 14:06\n",
            "75          Dog Senior Citizen or Disability Female             SHIH TZU        WHITE/BLACK            CHELSEA     15006     2007   3/15/2007 14:12\n",
            "76          Dog Senior Citizen or Disability Female                MIXED              WHITE            LOU LOU     15006     2007   3/15/2007 14:12\n",
            "77                     Dog Individual Spayed Female     GER SHEPHERD MIX        BLACK/BROWN             PEPPER     15006     2007  05-08-2007 12:50\n",
            "78   Dog Senior Citizen or Disability Neutered Male                MIXED              BROWN              FRITZ     15006     2007   4/18/2007 10:57\n",
            "79                              Dog Individual Male          ENG BULLDOG          WHITE/RED             MICKLO     15006     2007   5/21/2007 12:23\n",
            "80                            Dog Individual Female        DACHSHUND MIX              BROWN              BELLA     15006     2007   2/20/2007 11:26\n",
            "81                     Dog Individual Spayed Female                MIXED              BLACK            DUCHESS     15006     2007   5/18/2007 11:18\n",
            "82                     Dog Individual Neutered Male                MIXED        BLACK/BROWN               ENZO     15006     2007   5/18/2007 11:18\n",
            "83                     Dog Individual Spayed Female   LABRADOR RETRIEVER        WHITE/BROWN              COCOA     15006     2007   3/16/2007 11:36\n",
            "84                              Dog Individual Male                MIXED        BLACK/BROWN              FRANK     15007     2007   2/28/2007 12:37\n",
            "85                     Dog Individual Spayed Female                BOXER              BROWN              CHLOE     15007     2007  12/13/2006 14:40\n",
            "86   Dog Senior Citizen or Disability Neutered Male                MIXED            BRINDLE             HOOVER     15007     2007   7/25/2007 14:17\n",
            "87                     Dog Individual Neutered Male            BOXER MIX              BROWN              PUPPY     15007     2007   2/20/2007 11:26\n",
            "88                     Dog Individual Spayed Female   LABRADOR RETRIEVER              BLACK             DONNER     15007     2007   5/31/2007 12:42\n",
            "89                     Dog Individual Spayed Female                BOXER            BRINDLE               CODA     15007     2007   2/13/2007 11:08\n",
            "90                     Dog Individual Neutered Male                BOXER               FAWN             BUSTER     15007     2007   2/13/2007 11:08\n",
            "91                            Dog Individual Female   LABRADOR RETRIEVER              BLACK               BABE     15007     2007   5/18/2007 14:30\n",
            "92   Dog Senior Citizen or Disability Neutered Male         GER SHEPHERD          BLACK/TAN               KOBE     15007     2007    3/28/2007 8:41\n",
            "93                     Dog Individual Neutered Male         GER SHEPHERD          BLACK/TAN              DOZER     15007     2007  03-12-2007 14:30\n",
            "94                     Dog Individual Spayed Female   LABRADOR RETRIEVER             YELLOW         LACEY JANE     15007     2007   3/26/2007 15:57\n",
            "95                     Dog Individual Neutered Male    YORKSHIRE TERRIER        BLACK/LIVER                BEN     15007     2007   7/23/2007 14:06\n",
            "96                     Dog Individual Spayed Female              POINTER            SPOTTED                PUP     15007     2007   6/18/2007 14:09\n",
            "97   Dog Senior Citizen or Disability Spayed Female             COCKAPOO        WHITE/BLACK              DOLLY     15007     2007  03-02-2007 15:42\n",
            "98                              Dog Individual Male         GER SHEPHERD              BROWN               ELDO     15008     2007   4/26/2007 15:05\n",
            "99                              Dog Individual Male           ENG SETTER            SPOTTED             SPLASH     15010     2007  05-09-2007 12:41\n",
            "100                    Dog Individual Neutered Male         GER SHEPHERD        BLACK/BROWN                MAX     15012     2007    2/22/2007 9:17\n",
            "101                    Dog Individual Spayed Female                MIXED              BROWN              NIKKO     15014     2007   5/22/2007 15:23\n",
            "102                    Dog Individual Spayed Female   SCHNAUZER STANDARD       BLACK/SILVER              MABEL     15014     2007   5/22/2007 15:23\n",
            "103                    Dog Individual Spayed Female                MIXED              BROWN              HANNA     15014     2007  06-01-2007 15:01\n",
            "104                             Dog Individual Male  ENG SPRINGER SPANIE        WHITE/LIVER            CHARLIE     15014     2007   2/13/2007 11:08\n",
            "105                    Dog Individual Spayed Female                MIXED              MULTI          LUCKYSTAR     15014     2007  05-11-2007 14:32\n",
            "106  Dog Senior Citizen or Disability Spayed Female              LAB MIX              BLACK              SUGAR     15014     2007   7/31/2007 11:56\n",
            "107                    Dog Individual Neutered Male                MIXED            SPOTTED            CHELSEA     15014     2007   3/15/2007 14:12\n",
            "108                    Dog Individual Spayed Female              LAB MIX              BLACK              MISSY     15014     2007    6/26/2007 9:41\n",
            "109                    Dog Individual Neutered Male    SHETLAND SHEEPDOG        WHITE/BROWN             LADDIE     15014     2007  01-12-2007 14:47\n",
            "110                    Dog Individual Spayed Female            DACHSHUND          BLACK/TAN             MILLIE     15014     2007  01-08-2007 11:07\n",
            "111                             Dog Individual Male                MIXED      WHITE/APRICOT               HANK     15014     2007   2/20/2007 15:53\n",
            "112                    Dog Individual Neutered Male                MIXED        BLACK/BROWN            MAXWELL     15014     2007   2/20/2007 15:53\n",
            "113                             Dog Individual Male             KEESHOND        WHITE/BLACK               MIKE     15014     2007  12/26/2006 11:58\n",
            "114                             Dog Individual Male         GER SHEPHERD          BLACK/TAN              BUDDY     15014     2007    3/29/2007 8:51\n",
            "115                    Dog Individual Spayed Female         BASSET HOUND        WHITE/BROWN               GENO     15014     2007   2/13/2007 14:47\n",
            "116                    Dog Individual Neutered Male   LABRADOR RETRIEVER              BROWN              DEWIE     15014     2007  03-09-2007 11:12\n",
            "117                    Dog Individual Neutered Male     GER SHEPHERD MIX              BROWN               JAKE     15014     2007  01-09-2007 16:07\n",
            "118                    Dog Individual Neutered Male    ITALIAN GREYHOUND         WHITE/GREY              FLASH     15014     2007   2/27/2007 13:57\n",
            "119                             Dog Individual Male    ITALIAN GREYHOUND         WHITE/FAWN    LIGHTENING JACK     15014     2007   2/27/2007 13:57\n",
            "120                    Dog Individual Spayed Female            CHIHUAHUA          WHITE/TAN              SISSY     15014     2007   2/27/2007 13:57\n",
            "121                    Dog Individual Neutered Male                  TAG        BLACK/BROWN                 BO     15014     2007   2/21/2007 11:30\n",
            "122  Dog Senior Citizen or Disability Neutered Male         GER SHEPHERD              MULTI               ECHO     15014     2007   2/21/2007 13:46\n",
            "123                    Dog Individual Spayed Female                MIXED             YELLOW              PLUTO     15014     2007   9/27/2007 12:31\n",
            "124                    Dog Individual Neutered Male                MIXED        BLACK/BROWN                BUD     15014     2007   3/20/2007 13:57\n",
            "125                    Dog Individual Spayed Female                MIXED        BLACK/BROWN              SADIE     15014     2007   3/20/2007 13:57\n",
            "126                           Dog Individual Female               BEAGLE  WHITE/BLACK/BROWN             FREIDA     15014     2007   3/20/2007 13:57\n",
            "127                             Dog Individual Male           ROTTWEILER              BLACK             BULLET     15014     2007  05-03-2007 13:32\n",
            "128                    Dog Individual Spayed Female   LABRADOR RETRIEVER              BLACK              PAIGE     15014     2007   3/16/2007 12:12\n",
            "129  Dog Senior Citizen or Disability Neutered Male    DOBERMAN PINSCHER        BROWN/LIVER          BARRY GUY     15014     2007  02-08-2007 15:46\n",
            "130  Dog Senior Citizen or Disability Spayed Female    DOBERMAN PINSCHER        BLACK/BROWN          DAISY GUY     15014     2007  02-08-2007 15:46\n",
            "131                    Dog Individual Spayed Female     GOLDEN RETRIEVER               GOLD             BAILEY     15014     2007  02-01-2007 10:56\n",
            "132                           Dog Individual Female  AM PIT BULL TERRIER                TAN               DORA     15014     2007  02-02-2007 09:22\n",
            "133                    Dog Individual Neutered Male     GER SHEPHERD MIX              BROWN       BANDIT JONES     15014     2007   3/15/2007 15:43\n",
            "134                    Dog Individual Neutered Male  BOUVIER DES FLANDRE               FAWN              BRUNO     15014     2007   3/16/2007 11:25\n",
            "135                    Dog Individual Spayed Female     GER SHEPHERD MIX        BLACK/BROWN              BOOTS     15014     2007  03-08-2007 15:12\n",
            "136                           Dog Individual Female      BORD COLLIE MIX              BLACK           LADY MAC     15014     2007  03-09-2007 09:59\n",
            "137                             Dog Individual Male            DACHSHUND                RED             PURPLE     15014     2007  03-09-2007 12:21\n",
            "138                    Dog Individual Neutered Male              POINTER  WHITE/BLACK/BROWN             BARLEY     15014     2007   2/28/2007 12:18\n",
            "139                             Dog Individual Male                MIXED                TAN             GRIZZY     15014     2007   1/17/2007 14:06\n",
            "140                             Dog Individual Male           ROTTWEILER        BLACK/BROWN             DIESEL     15014     2007   5/22/2007 14:25\n",
            "141                    Dog Individual Neutered Male                  PUG               FAWN              GIZMO     15014     2007  05-07-2007 10:07\n",
            "142                    Dog Individual Neutered Male  AM PIT BULL TERRIER              BLACK             BUSTER     15014     2007   1/29/2007 10:47\n",
            "143                    Dog Individual Spayed Female                BOXER         WHITE/FAWN             GINGER     15014     2007   2/20/2007 11:26\n",
            "144                           Dog Individual Female      POODLE STANDARD              CREAM               BABE     15014     2007  01-12-2007 14:19\n",
            "145                    Dog Individual Neutered Male            DACHSHUND            SPOTTED              FRITZ     15014     2007   5/21/2007 10:29\n",
            "146  Dog Senior Citizen or Disability Neutered Male        DACHSHUND MIX        WHITE/BLACK             WALTER     15014     2007  06-01-2007 13:11\n",
            "147                             Dog Individual Male  AM PIT BULL TERRIER        WHITE/BLACK          VLADIMORE     15014     2007  06-04-2007 12:07\n",
            "148                           Dog Individual Female                MIXED  WHITE/BLACK/BROWN              BELLA     15014     2007  06-04-2007 14:30\n",
            "149                    Dog Individual Spayed Female  AM PIT BULL TERRIER        WHITE/BROWN              ANGEL     15014     2007  06-05-2007 12:09\n",
            "150                           Dog Individual Female                MIXED              BROWN               NANA     15014     2007  04-12-2007 13:28\n",
            "151                    Dog Individual Neutered Male  AM PIT BULL TERRIER              BROWN               NONO     15014     2007  04-12-2007 13:53\n",
            "152                    Dog Individual Neutered Male       ROTTWEILER MIX  WHITE/BLACK/BROWN               JACK     15014     2007  04-12-2007 16:09\n",
            "153  Dog Senior Citizen or Disability Spayed Female            DACHSHUND                RED               LADY     15014     2007  08-08-2007 13:48\n",
            "154                    Dog Individual Neutered Male              LAB MIX              BLACK              HADES     15014     2007  08-09-2007 14:20\n",
            "155                           Dog Individual Female            DACHSHUND        BLACK/BROWN              HONEY     15014     2007  07-11-2007 12:57\n",
            "156                    Dog Individual Neutered Male   GOLDEN RETRIEV MIX  WHITE/BLACK/BROWN              BRADY     15014     2007   8/17/2007 13:54\n",
            "157                             Dog Individual Male     GOLDEN RETRIEVER             BLONDE                BEN     15014     2007   8/17/2007 13:54\n",
            "158                    Dog Individual Spayed Female          BORD COLLIE        WHITE/BLACK            JILLIAN     15014     2007   5/30/2007 12:13\n",
            "159                    Dog Individual Spayed Female               BEAGLE  WHITE/BLACK/BROWN              EMILY     15014     2007   3/26/2007 16:16\n",
            "160                    Dog Individual Spayed Female         GER SHEPHERD              BLACK            GIDGETT     15014     2007  03-06-2007 13:57\n",
            "161                             Dog Individual Male                MIXED  WHITE/BLACK/BROWN        PUGSLEY JOE     15014     2007    2/26/2007 8:31\n",
            "162                    Dog Individual Spayed Female            SHIBA INU  WHITE/BLACK/BROWN        SIERRA LOVE     15014     2007   2/22/2007 15:30\n",
            "163                    Dog Individual Neutered Male  AM PIT BULL TERRIER            BRINDLE              ROCCO     15014     2007  07-11-2007 14:35\n",
            "164                             Dog Individual Male              LAB MIX              BROWN             CASIUS     15014     2007   2/23/2007 10:38\n",
            "165                    Dog Individual Neutered Male      FOX TERRIER TOY        WHITE/BLACK                TAZ     15014     2007   8/15/2007 13:07\n",
            "166                    Dog Individual Neutered Male  PARSON RUSSELL TERR              MULTI              TYSON     15014     2007   5/14/2007 15:32\n",
            "167                             Dog Individual Male                MIXED        BLACK/BROWN             ARCHIE     15014     2007  11-09-2007 08:43\n",
            "168                             Dog Individual Male         GER SHEPHERD        BLACK/BROWN        ZEUS SCHAUB     15014     2007   2/16/2007 15:34\n",
            "169                    Dog Individual Spayed Female           POODLE MIX              BROWN              PEPSI     15014     2007   5/23/2007 16:14\n",
            "170                    Dog Individual Spayed Female   LABRADOR RETRIEVER              BLACK              SADIE     15014     2007   2/23/2007 10:38\n",
            "171                    Dog Individual Spayed Female  GER SHORTHAIR POINT        WHITE/BROWN         LIBA TERRA     15014     2007  04-11-2007 15:44\n",
            "172                             Dog Individual Male          TERRIER MIX            SPOTTED               SPOT     15014     2007  03-02-2007 15:36\n",
            "173                    Dog Individual Spayed Female         GER SHEPHERD        BLACK/BROWN             KISSES     15014     2007  03-02-2007 15:36\n",
            "174  Dog Senior Citizen or Disability Spayed Female             PAPILLON          WHITE/TAN              GI GI     15014     2007    8/27/2007 8:42\n",
            "175                    Dog Individual Neutered Male           COLLIE MIX               GOLD               ZACK     15014     2007  04-10-2007 15:01\n",
            "176                             Dog Individual Male  ENG SPRINGER SPANIE        WHITE/LIVER             SAMSON     15014     2007  04-10-2007 15:01\n",
            "177                    Dog Individual Neutered Male              LAB MIX        WHITE/BLACK               ABBY     15014     2007   4/23/2007 11:58\n",
            "178                    Dog Individual Spayed Female                BOXER              WHITE     PRINCESS BELLA     15014     2007   4/25/2007 14:59\n",
            "179                    Dog Individual Spayed Female     AIREDALE TERRIER              BROWN           HATTIE B     15014     2007  03-02-2007 15:49\n",
            "180                    Dog Individual Neutered Male              LAB MIX                TAN             OATSIE     15014     2007  04-05-2007 16:05\n",
            "181                    Dog Individual Spayed Female           BEAGLE MIX        BLACK/BROWN             TUCKER     15014     2007    7/23/2007 8:51\n",
            "182                    Dog Individual Neutered Male           COLLIE MIX        WHITE/BROWN               JAKE     15014     2007    7/23/2007 8:51\n",
            "183                             Dog Individual Male                  PUG              BROWN              PETEY     15014     2007  04-04-2007 13:34\n",
            "184                           Dog Individual Female                MIXED        WHITE/BLACK               CODY     15014     2007   5/14/2007 14:04\n",
            "185                             Dog Individual Male           GREAT DANE              BLACK              VADER     15014     2007   7/17/2007 16:25\n",
            "186                             Dog Individual Male   LABRADOR RETRIEVER              BROWN              RUSTY     15014     2007   1/18/2007 14:47\n",
            "187                             Dog Individual Male   LABRADOR RETRIEVER             YELLOW           EINSTEIN     15014     2007   1/18/2007 14:47\n",
            "188                           Dog Individual Female   LABRADOR RETRIEVER              BLACK              ANGEL     15014     2007   1/18/2007 14:47\n",
            "189                    Dog Individual Neutered Male           POODLE TOY             SILVER             BUSTER     15014     2007  03-12-2007 15:57\n",
            "190                    Dog Individual Neutered Male           POODLE TOY             SILVER              DEWEY     15014     2007  03-12-2007 15:57\n",
            "191                           Dog Individual Female           POODLE TOY              WHITE              CASIE     15014     2007  03-12-2007 15:57\n",
            "192                           Dog Individual Female           POODLE TOY              WHITE               ABBY     15014     2007  03-12-2007 15:57\n",
            "193                    Dog Individual Neutered Male                MIXED              BLACK              COBBE     15014     2007   5/30/2007 13:53\n",
            "194  Dog Senior Citizen or Disability Spayed Female     GOLDEN RETRIEVER           GOLD/RED             MAGGIE     15014     2007  03-02-2007 14:12\n",
            "195                             Dog Individual Male     AIREDALE TERRIER        BLACK/BROWN            FORREST     15014     2007    2/23/2007 9:08\n",
            "196                    Dog Individual Neutered Male         GER SHEPHERD        BLACK/BROWN              TITUS     15014     2007   3/13/2007 15:42\n",
            "197                    Dog Individual Neutered Male              LAB MIX              BLACK              SMOKE     15014     2007   3/13/2007 15:42\n",
            "198                    Dog Individual Spayed Female             SHIH TZU        WHITE/BROWN         HONEY GIRL     15014     2007  02-12-2007 15:55\n",
            "199                    Dog Individual Spayed Female     GOLDEN RETRIEVER               GOLD           CHEYANNE     15014     2007   2/22/2007 15:22\n",
            "200  Dog Senior Citizen or Disability Spayed Female        DALMATION MIX            SPOTTED             BRANDI     15014     2007  02-09-2007 15:51\n",
            "201                           Dog Individual Female              LAB MIX              WHITE                BOO     15014     2007   7/18/2007 12:55\n",
            "202                    Dog Individual Neutered Male           COLLIE MIX        WHITE/BLACK        GENERAL LEE     15014     2007    1/23/2007 9:46\n",
            "203                             Dog Individual Male           LHASA APSO              WHITE              SUNNY     15014     2007   5/25/2007 11:31\n",
            "204           Dog Senior Citizen or Disability Male      BORD COLLIE MIX        WHITE/BLACK             DEXTER     15014     2007   3/22/2007 13:13\n",
            "205                    Dog Individual Spayed Female              LAB MIX            BRINDLE              MILAN     15014     2007   2/26/2007 14:42\n",
            "206                             Dog Individual Male    DOBERMAN PINSCHER                RED              BLAZE     15014     2007   2/26/2007 14:42\n",
            "207                    Dog Individual Neutered Male            DACHSHUND              BROWN              BOGIE     15014     2007   2/23/2007 15:31\n",
            "208                           Dog Individual Female          RAT TERRIER            SPOTTED              CI CI     15014     2007   1/25/2007 10:31\n",
            "209                    Dog Individual Neutered Male              LAB MIX              BLACK              HEINZ     15014     2007    1/29/2007 8:36\n",
            "210                    Dog Individual Spayed Female       BOSTON TERRIER        WHITE/BLACK               OREO     15014     2007  02-01-2007 09:41\n",
            "211                    Dog Individual Spayed Female       GREAT PYRENEES              WHITE       SISI ZEPPLIN     15014     2007  02-01-2007 09:41\n",
            "212                    Dog Individual Neutered Male         SHEPHERD MIX          WHITE/RED             RAMSEY     15014     2007   5/16/2007 10:58\n",
            "213                    Dog Individual Spayed Female            GREYHOUND                RED            PAW PAW     15014     2007  02-12-2007 15:34\n",
            "214  Dog Senior Citizen or Disability Spayed Female              LAB MIX                TAN              CHLOE     15014     2007   7/13/2007 16:04\n",
            "215                    Dog Individual Spayed Female                BOXER            BRINDLE         HOLLY GIRL     15014     2007   5/14/2007 13:11\n",
            "216                             Dog Individual Male     AIREDALE TERRIER        BLACK/BROWN             MAGNUM     15014     2007    2/23/2007 9:08\n",
            "217                    Dog Individual Spayed Female     GOLDEN RETRIEVER               GOLD             TRUMAN     15014     2007   4/30/2007 10:15\n",
            "218                           Dog Individual Female     GOLDEN RETRIEVER               GOLD             TRUMAN     15014     2007               NaN\n",
            "219                             Dog Individual Male                BOXER              BROWN              ROCKY     15014     2007  12/18/2006 14:32\n",
            "220                             Dog Individual Male                  PUG              BROWN             FATMAN     15014     2007  12/18/2006 14:32\n",
            "221                             Dog Individual Male                  PUG              BLACK                GUS     15014     2007  12/18/2006 14:32\n",
            "222                             Dog Individual Male  AM PIT BULL TERRIER            BRINDLE               ODIS     15014     2007  01-03-2007 11:45\n",
            "223                           Dog Individual Female                MIXED              BLACK              SASSY     15014     2007  04-10-2007 15:24\n",
            "224                             Dog Individual Male  AM PIT BULL TERRIER              WHITE               KODA     15014     2007   4/25/2007 11:48\n",
            "225                             Dog Individual Male                MIXED        WHITE/BLACK            SKEEKER     15014     2007   2/22/2007 15:22\n",
            "226                             Dog Individual Male         BULL TERRIER          CHOCOLATE           MR BROWN     15014     2007  04-11-2007 15:14\n",
            "227                    Dog Individual Neutered Male         GER SHEPHERD        WHITE/BLACK                ACE     15014     2007  05-01-2007 11:27\n",
            "228                           Dog Individual Female  AM PIT BULL TERRIER               FAWN              JAYDA     15014     2007    4/30/2007 9:59\n",
            "229                    Dog Individual Neutered Male         AUS SHEPHERD              BROWN             SAMSON     15014     2007    5/17/2007 8:22\n",
            "230                    Dog Individual Neutered Male             COCKAPOO              BLACK               EJAY     15014     2007  06-07-2007 14:08\n",
            "231                    Dog Individual Spayed Female  WELSH CORGI CARDIGA        BLACK/BROWN             LILLIE     15014     2007   6/15/2007 15:15\n",
            "232                           Dog Individual Female            CHIHUAHUA              BROWN          COCO PUFF     15014     2007   8/15/2007 13:07\n",
            "233                             Dog Individual Male     GER SHEPHERD MIX        BLACK/BROWN            FREEDOM     15014     2007   8/22/2007 14:12\n",
            "234                           Dog Individual Female     GER SHEPHERD MIX            SPOTTED               BEAR     15014     2007   8/23/2007 10:48\n",
            "235                    Dog Individual Neutered Male  AM PIT BULL TERRIER                TAN              BONES     15014     2007  10/16/2007 12:42\n",
            "236                             Dog Individual Male  AM PIT BULL TERRIER            BRINDLE               TANK     15014     2007  10/24/2007 10:29\n",
            "237                             Dog Individual Male                MIXED              BLACK             SPARKY     15014     2007  11/13/2007 14:32\n",
            "238                    Dog Individual Neutered Male              LAB MIX        BLACK/BROWN              BUDDY     15014     2007  11/13/2007 14:32\n",
            "239                             Dog Individual Male           ST BERNARD              MULTI               TEAL     15015     2007   2/26/2007 16:03\n",
            "240                             Dog Individual Male           ST BERNARD              MULTI                BOB     15015     2007   2/26/2007 16:03\n",
            "241                    Dog Individual Spayed Female              LAB MIX               FAWN               ELLE     15015     2007   1/23/2007 13:38\n",
            "242                    Dog Individual Neutered Male           WEIMARANER               BLUE               LUKE     15015     2007   2/26/2007 14:42\n",
            "243                    Dog Individual Neutered Male             COCKAPOO                  .            BOCELLI     15015     2007  05-01-2007 11:37\n",
            "244                    Dog Individual Spayed Female     GOLDEN RETRIEVER               GOLD              BELLE     15015     2007   5/16/2007 15:22\n",
            "245                    Dog Individual Neutered Male         GER SHEPHERD        BLACK/BROWN               ZEUS     15015     2007   2/27/2007 11:52\n",
            "246                    Dog Individual Neutered Male          BORD COLLIE              BLACK             HOBBES     15015     2007   3/21/2007 14:36\n",
            "247                    Dog Individual Neutered Male                BOXER        WHITE/BROWN               JAKE     15015     2007   3/21/2007 14:36\n",
            "248  Dog Senior Citizen or Disability Spayed Female           POODLE MIN              BROWN            NUGGETT     15015     2007  05-01-2007 14:45\n",
            "249  Dog Senior Citizen or Disability Spayed Female            DACHSHUND        BLACK/BROWN              BELLE     15015     2007   5/16/2007 10:58\n",
            "250                    Dog Individual Neutered Male                MIXED                TAN                TUT     15015     2007   1/25/2007 12:50\n",
            "251                    Dog Individual Neutered Male                MIXED  WHITE/BLACK/BROWN            CHARLEY     15015     2007   1/25/2007 12:54\n",
            "252                           Dog Individual Female   LABRADOR RETRIEVER              BLACK           INDY LOU     15015     2007  05-01-2007 14:10\n",
            "253  Dog Senior Citizen or Disability Neutered Male         BICHON FRISE              WHITE        MARSHMELLOW     15015     2007  01-04-2007 15:57\n",
            "254                    Dog Individual Neutered Male           BEAGLE MIX            SPOTTED                KAI     15015     2007   3/28/2007 10:08\n",
            "255                    Dog Individual Neutered Male   LABRADOR RETRIEVER             YELLOW                SAM     15015     2007    1/25/2007 9:34\n",
            "256         Dog Senior Citizen or Disability Female           POODLE TOY              BLACK              MOXIE     15015     2007    2/15/2007 9:10\n",
            "257                    Dog Individual Spayed Female     GOLDEN RETRIEVER               GOLD               LUCY     15015     2007  02-09-2007 14:52\n",
            "258                    Dog Individual Spayed Female     BRITTANY SPANIEL                  .  WILLOW MOTLEY LAW     15015     2007   3/22/2007 14:32\n",
            "259                    Dog Individual Spayed Female  ENG SPRINGER SPANIE        WHITE/BROWN         WINNIE LAW     15015     2007   3/22/2007 14:32\n",
            "260                    Dog Individual Spayed Female  GER SHORTHAIR POINT        WHITE/BROWN              SCOUT     15015     2007   3/13/2007 14:38\n",
            "261                    Dog Individual Spayed Female      BORD COLLIE MIX        BLACK/BROWN               KONA     15015     2007  03-09-2007 16:05\n",
            "262                    Dog Individual Spayed Female        CAIRN TERRIER              BROWN            SWEETIE     15015     2007  03-09-2007 16:05\n",
            "263                    Dog Individual Neutered Male        CAIRN TERRIER              BLACK             CROSBY     15015     2007  10/18/2007 16:09\n",
            "264                    Dog Individual Spayed Female        CAIRN TERRIER              WHITE               HOPE     15015     2007  10/18/2007 16:09\n",
            "265                             Dog Individual Male  PARSON RUSSELL TERR            SPOTTED   FRAISER (CROSBY)     15015     2007  09-07-2007 09:35\n",
            "266                    Dog Individual Spayed Female           POODLE MIN              BLACK               LULU     15015     2007   5/16/2007 12:43\n",
            "267                    Dog Individual Neutered Male                  TAG        WHITE/BLACK            BIG BEN     15015     2007   4/30/2007 10:34\n",
            "268                    Dog Individual Neutered Male              LAB MIX              BLACK             HARLEY     15015     2007   4/30/2007 10:34\n",
            "269                    Dog Individual Neutered Male         AUS SHEPHERD              MULTI             KOOPER     15015     2007   3/28/2007 11:29\n",
            "270                    Dog Individual Neutered Male                MIXED              WHITE           BROADWAY     15015     2007   5/21/2007 14:58\n",
            "271                    Dog Individual Spayed Female                MIXED              BLACK          HOLLYWOOD     15015     2007   5/21/2007 14:58\n",
            "272                             Dog Individual Male         BICHON FRISE              WHITE            MAXWELL     15015     2007   2/28/2007 12:37\n",
            "273                    Dog Individual Spayed Female       ROTTWEILER MIX        BLACK/BROWN             SMOKIE     15015     2007  04-03-2007 08:21\n",
            "274                    Dog Individual Neutered Male         GOLDENDOODLE              WHITE             WESLEY     15015     2007   3/21/2007 13:52\n",
            "275  Dog Senior Citizen or Disability Neutered Male         BICHON FRISE              WHITE           SUNSHINE     15015     2007   6/25/2007 15:21\n",
            "276                    Dog Individual Neutered Male         BICHON FRISE              WHITE              BUDDY     15015     2007   7/26/2007 15:31\n",
            "277                    Dog Individual Neutered Male      POODLE STANDARD            APRICOT              EDGAR     15015     2007   1/24/2007 15:58\n",
            "278                    Dog Individual Spayed Female     BRITTANY SPANIEL              WHITE               EMMY     15015     2007  01-02-2007 16:05\n",
            "279                    Dog Individual Neutered Male             PAPILLON  WHITE/BLACK/BROWN               THEO     15015     2007  05-02-2007 14:16\n",
            "280                    Dog Individual Neutered Male     AIREDALE TERRIER        BLACK/BROWN             GROVER     15015     2007   7/26/2007 14:15\n",
            "281  Dog Senior Citizen or Disability Spayed Female                MIXED        BLACK/BROWN               BABE     15015     2007   3/21/2007 10:13\n",
            "282                    Dog Individual Neutered Male                BOXER            BRINDLE             DIESEL     15015     2007  06-05-2007 14:48\n",
            "283                    Dog Individual Neutered Male                BOXER            BRINDLE          QUAZIMODO     15015     2007  10-02-2007 12:24\n",
            "284                    Dog Individual Spayed Female            BOXER MIX            BRINDLE            CARAMEL     15015     2007   3/20/2007 14:14\n",
            "285                    Dog Individual Neutered Male                BOXER            BRINDLE              CURLY     15015     2007   3/20/2007 14:14\n",
            "286                    Dog Individual Neutered Male                MIXED        BLACK/BROWN             HUNTER     15015     2007   1/17/2007 10:12\n",
            "287                    Dog Individual Neutered Male  GER SHORTHAIR POINT            SPOTTED                SAM     15015     2007  03-09-2007 11:12\n",
            "288                    Dog Individual Spayed Female  AM PIT BULL TERRIER            BRINDLE              BELLA     15015     2007  02-08-2007 09:08\n",
            "289  Dog Senior Citizen or Disability Spayed Female              LAB MIX                RED              LEXIE     15015     2007  08-07-2007 15:17\n",
            "290                    Dog Individual Neutered Male              BULLDOG  WHITE/BLACK/BROWN         WELLINGTON     15015     2007  07-03-2007 14:09\n",
            "291                    Dog Individual Spayed Female          RAT TERRIER  WHITE/BLACK/BROWN            CORSAIR     15015     2007  07-03-2007 14:09\n",
            "292                    Dog Individual Spayed Female         MIN PINSCHER              BROWN             SNIPER     15015     2007  07-03-2007 14:09\n",
            "293                    Dog Individual Spayed Female          MALTESE MIX        WHITE/BROWN          DAUNTLESS     15015     2007  07-03-2007 14:09\n",
            "294                             Dog Individual Male         GOLDENDOODLE              BROWN              KOLBY     15015     2007  05-04-2007 13:52\n",
            "295                    Dog Individual Neutered Male              MALTESE              WHITE                MAX     15015     2007  05-07-2007 14:39\n",
            "296                    Dog Individual Spayed Female              LAB MIX              BLACK            KRICKET     15015     2007  05-07-2007 14:39\n",
            "297                    Dog Individual Spayed Female    YORKSHIRE TERRIER              BLACK          ANNABELLE     15015     2007  05-07-2007 14:39\n",
            "298                    Dog Individual Spayed Female                BOXER              BROWN               LUCY     15015     2007  05-07-2007 14:39\n",
            "299                    Dog Individual Neutered Male                  TAG        BLACK/BROWN            WILLIAM     15015     2007  06-07-2007 11:58\n",
            "300                    Dog Individual Spayed Female              LAB MIX               GOLD             HARLEY     15015     2007  05-11-2007 10:30\n",
            "301                    Dog Individual Spayed Female            DALMATIAN            SPOTTED           FRECKLES     15017     2007  03-07-2007 13:20\n",
            "302                    Dog Individual Neutered Male     GER SHEPHERD MIX        BLACK/BROWN              ROCCO     15017     2007  06-01-2007 14:02\n",
            "303                    Dog Individual Neutered Male    YORKSHIRE TERRIER       BLACK/SILVER              BACCI     15017     2007  07-05-2007 13:34\n",
            "304                    Dog Individual Spayed Female               BEAGLE        WHITE/BROWN             BOSTON     15017     2007   3/20/2007 15:56\n",
            "305                    Dog Individual Neutered Male   LABRADOR RETRIEVER              BLACK            BUCK II     15017     2007   5/18/2007 14:29\n",
            "306                    Dog Individual Spayed Female     GER SHEPHERD MIX              BLACK            SCOOTER     15017     2007   2/21/2007 15:34\n",
            "307                    Dog Individual Neutered Male    YORKSHIRE TERRIER        WHITE/BLACK           SNUGGLES     15017     2007   1/17/2007 12:11\n",
            "308                    Dog Individual Neutered Male       COCKER SPANIEL              BLACK             COOPER     15017     2007  12/28/2006 13:23\n",
            "309                    Dog Individual Neutered Male    SHETLAND SHEEPDOG              BROWN             TUCKER     15017     2007  12-12-2006 10:19\n",
            "310                           Dog Individual Female    SHETLAND SHEEPDOG              SABLE             PEANUT     15017     2007   3/15/2007 14:08\n",
            "311                    Dog Individual Spayed Female              LAB MIX             YELLOW             MAGGIE     15017     2007   2/13/2007 14:07\n",
            "312                    Dog Individual Spayed Female  WELSH CORGI CARDIGA             BLONDE              GIZMO     15017     2007   5/17/2007 15:23\n",
            "313                    Dog Individual Spayed Female                MIXED              BROWN              ROLLO     15017     2007   2/21/2007 11:59\n",
            "314                    Dog Individual Spayed Female               BEAGLE  WHITE/BLACK/BROWN               EMMI     15017     2007   4/17/2007 12:14\n",
            "315                    Dog Individual Neutered Male              TERRIER         BLACK/GREY             PARKER     15017     2007   4/17/2007 12:14\n",
            "316  Dog Senior Citizen or Disability Neutered Male             SHIH TZU      WHITE/BRINDLE             SPARKY     15017     2007   2/13/2007 11:08\n",
            "317                    Dog Individual Neutered Male             PEEKAPOO          WHITE/RED              PUDGY     15017     2007   2/28/2007 14:50\n",
            "318                    Dog Individual Spayed Female    YORKSHIRE TERRIER        BLACK/BROWN               DIVA     15017     2007  12-12-2006 15:41\n",
            "319                           Dog Individual Female        SILKY TERRIER              BROWN             MILLIE     15017     2007  12-12-2006 15:41\n",
            "320                           Dog Individual Female              MALTESE              WHITE             MOLLIE     15017     2007  12-12-2006 15:41\n",
            "321                    Dog Individual Spayed Female              POINTER            SPOTTED             PEPPER     15017     2007   2/27/2007 15:04\n",
            "322           Dog Senior Citizen or Disability Male    YORKSHIRE TERRIER  WHITE/BLACK/BROWN           PRINCESS     15017     2007   1/29/2007 10:47\n",
            "323                    Dog Individual Neutered Male   LABRADOR RETRIEVER              BLACK               EGAN     15017     2007  06-01-2007 15:01\n",
            "324                    Dog Individual Neutered Male  PARSON RUSSELL TERR              WHITE               MORK     15017     2007   2/28/2007 12:37\n",
            "325                             Dog Individual Male  W HGHLND WH TERRIER              WHITE             TREVOR     15017     2007   2/27/2007 11:52\n",
            "326                    Dog Individual Spayed Female                MIXED        BLACK/BROWN              SPECK     15017     2007   2/20/2007 15:08\n",
            "327                    Dog Individual Neutered Male                MIXED              BROWN              BRADY     15017     2007   2/28/2007 10:38\n",
            "328         Dog Senior Citizen or Disability Female            DACHSHUND        BLACK/BROWN          CINDY LOU     15017     2007   1/24/2007 15:21\n",
            "329  Dog Senior Citizen or Disability Spayed Female              LAB MIX              BLACK              DIXIE     15017     2007  01-12-2007 14:19\n",
            "330  Dog Senior Citizen or Disability Spayed Female                MIXED  WHITE/BLACK/BROWN              ZEUSS     15017     2007   6/25/2007 15:21\n",
            "331                    Dog Individual Spayed Female               BEAGLE              MULTI             KELSEY     15017     2007  03-08-2007 09:28\n",
            "332                    Dog Individual Spayed Female  W HGHLND WH TERRIER              WHITE              RUFFY     15017     2007   2/21/2007 11:59\n",
            "333                    Dog Individual Neutered Male    YORKSHIRE TERRIER             SILVER               KODY     15017     2007   3/19/2007 15:58\n",
            "334                             Dog Individual Male         BICHON FRISE              WHITE               TROY     15017     2007   1/30/2007 15:30\n",
            "335                           Dog Individual Female           COLLIE MIX        WHITE/BROWN              HAZEL     15017     2007  10-09-2007 10:30\n",
            "336                    Dog Individual Neutered Male    YORKSHIRE TERRIER              MULTI              PUPPY     15017     2007   2/21/2007 15:34\n",
            "337                    Dog Individual Neutered Male    YORKSHIRE TERRIER              BLACK              GIZZY     15017     2007   2/21/2007 15:34\n",
            "338                    Dog Individual Spayed Female               BEAGLE            SPOTTED            MALLORY     15017     2007   5/31/2007 12:42\n",
            "339                           Dog Individual Female                  TAG              MULTI             MAGGIE     15017     2007    9/21/2007 7:47\n",
            "340                Dog Individual License Duplicate   LABRADOR RETRIEVER              BLACK             BUTKIS     15017     2007   6/25/2007 15:21\n",
            "341                    Dog Individual Spayed Female                MIXED              BLACK              MISSY     15017     2007   2/14/2007 10:37\n",
            "342  Dog Senior Citizen or Disability Neutered Male             KEESHOND   WHITE/BLACK/GREY             WOOKIE     15017     2007   5/18/2007 11:18\n",
            "343                    Dog Individual Neutered Male             SHIH TZU  WHITE/BLACK/BROWN              GIZMO     15017     2007  07-05-2007 14:33\n",
            "344                    Dog Individual Neutered Male      BERNESE MTN DOG  WHITE/BLACK/BROWN          SHUM-NUTS     15017     2007  07-05-2007 14:33\n",
            "345                    Dog Individual Neutered Male     GOLDEN RETRIEVER              BROWN                GUS     15017     2007  07-05-2007 14:33\n",
            "346                           Dog Individual Female  ENG SPRINGER SPANIE              BLACK              PENNY     15017     2007   2/13/2007 10:52\n",
            "347                           Dog Individual Female  ENG SPRINGER SPANIE        WHITE/BLACK              BINDY     15017     2007   2/13/2007 10:52\n",
            "348                    Dog Individual Neutered Male                MIXED            BRINDLE           CHARCOAL     15017     2007  05-04-2007 15:06\n",
            "349                    Dog Individual Neutered Male   LABRADOR RETRIEVER          BLACK/TAN             STEVEE     15017     2007   1/17/2007 12:11\n",
            "350                           Dog Individual Female       FRENCH BULLDOG            BRINDLE             OLIVIA     15017     2007  04-03-2007 15:25\n",
            "351                             Dog Individual Male          ENG BULLDOG            BRINDLE              GATOR     15017     2007  04-03-2007 15:25\n",
            "352                    Dog Individual Neutered Male               BEAGLE  WHITE/BLACK/BROWN              CHASE     15017     2007  05-03-2007 14:55\n",
            "353                    Dog Individual Spayed Female           BEAGLE MIX            SPOTTED             DOTTIE     15017     2007  03-09-2007 14:16\n",
            "354                    Dog Individual Neutered Male              MALTESE              WHITE              LANCE     15017     2007   2/28/2007 11:41\n",
            "355                    Dog Individual Neutered Male        DACHSHUND MIX              BLACK              BUDDY     15017     2007   6/21/2007 11:54\n",
            "356                    Dog Individual Spayed Female   YORKSHIRE TERR MIX              MULTI              SALLY     15017     2007  01-08-2007 12:30\n",
            "357                    Dog Individual Spayed Female  WELSH CORGI CARDIGA    BLACK/TAN/WHITE               LILY     15017     2007  03-08-2007 10:21\n",
            "358  Dog Senior Citizen or Disability Neutered Male       BOSTON TERRIER            BRINDLE               BEAU     15017     2007  01-12-2007 09:14\n",
            "359                    Dog Individual Neutered Male                MIXED        WHITE/BLACK             TIPPER     15017     2007   2/20/2007 15:32\n",
            "360                    Dog Individual Neutered Male                MIXED            SPOTTED                MAX     15017     2007   3/30/2007 10:47\n",
            "361                    Dog Individual Neutered Male                  PUG               FAWN             OLIVER     15017     2007   2/27/2007 11:52\n",
            "362                    Dog Individual Spayed Female   LABRADOR RETRIEVER              BLACK              ANGEL     15017     2007   7/26/2007 12:45\n",
            "363  Dog Senior Citizen or Disability Spayed Female             SHIH TZU          WHITE/TAN               ANNA     15017     2007   3/16/2007 14:06\n",
            "364                    Dog Individual Spayed Female              LAB MIX              BLACK              MISTY     15017     2007  03-07-2007 08:45\n",
            "365                    Dog Individual Spayed Female  W HGHLND WH TERRIER              WHITE               RAGS     15017     2007  03-07-2007 08:45\n",
            "366                    Dog Individual Neutered Male           BEAGLE MIX  WHITE/BLACK/BROWN              ABNER     15017     2007  03-07-2007 08:45\n",
            "367                    Dog Individual Neutered Male              LAB MIX                TAN              ANGEL     15017     2007  03-07-2007 08:45\n",
            "368                    Dog Individual Spayed Female                MIXED              BROWN             BAILEE     15017     2007   5/17/2007 15:23\n",
            "369                    Dog Individual Spayed Female        DALMATION MIX        WHITE/BLACK               CALI     15017     2007   7/30/2007 11:15\n",
            "370  Dog Senior Citizen or Disability Spayed Female                MIXED                TAN              CHLOE     15017     2007   2/28/2007 10:38\n",
            "371  Dog Senior Citizen or Disability Spayed Female       GREAT PYRENEES              WHITE             MATTIE     15017     2007   2/28/2007 10:38\n",
            "372  Dog Senior Citizen or Disability Spayed Female         BICHON FRISE              WHITE              BIJOU     15017     2007   2/28/2007 10:38\n",
            "373                    Dog Individual Spayed Female                MIXED  WHITE/BLACK/BROWN              LEXUS     15017     2007  12/26/2006 12:46\n",
            "374                    Dog Individual Neutered Male    YORKSHIRE TERRIER              OTHER             BEAMER     15017     2007  06-07-2007 10:14\n",
            "375                    Dog Individual Spayed Female     GOLDEN RETRIEVER               GOLD              HOLLY     15017     2007  03-09-2007 13:30\n",
            "376                    Dog Individual Spayed Female         GER SHEPHERD               FAWN        ABBY HAMMER     15017     2007  01-12-2007 14:19\n",
            "377                    Dog Individual Neutered Male             SHIH TZU         BLACK/GOLD            HICKORY     15017     2007  10-11-2007 12:16\n",
            "378                    Dog Individual Spayed Female            DALMATIAN            SPOTTED             PEANUT     15017     2007  02-07-2007 16:02\n",
            "379                             Dog Individual Male   YORKSHIRE TERR MIX              MULTI            CHESTER     15017     2007  02-02-2007 14:15\n",
            "380                    Dog Individual Neutered Male              LAB MIX              BLACK               ECHO     15017     2007  02-02-2007 09:22\n",
            "381                    Dog Individual Spayed Female                  PUG              BROWN               LEIA     15017     2007  02-01-2007 13:42\n",
            "382                    Dog Individual Spayed Female          LABRADOODLE             BLONDE             AUTUMN     15017     2007   1/19/2007 10:55\n",
            "383                    Dog Individual Neutered Male            DACHSHUND                RED              BARON     15017     2007   1/19/2007 10:55\n",
            "384                           Dog Individual Female  GER SHORTHAIR POINT              BROWN               CLEO     15017     2007   1/19/2007 12:34\n",
            "385                    Dog Individual Spayed Female                MIXED              BROWN              ANNIE     15017     2007   1/24/2007 13:30\n",
            "386                    Dog Individual Neutered Male            DACHSHUND            SPOTTED              OSCAR     15017     2007   1/29/2007 15:04\n",
            "387                             Dog Individual Male              LAB MIX          BLACK/TAN              RUFUS     15017     2007   2/21/2007 10:06\n",
            "388                    Dog Individual Spayed Female               BEAGLE              MULTI             LIZZIE     15017     2007   2/21/2007 10:06\n",
            "389                    Dog Individual Spayed Female          MALTESE MIX              WHITE             PEANUT     15017     2007   2/27/2007 11:52\n",
            "390                    Dog Individual Spayed Female                MIXED              BROWN              SIMBA     15017     2007   2/28/2007 10:55\n",
            "391                             Dog Individual Male               BEAGLE              MULTI              HOMER     15017     2007  03-08-2007 09:28\n",
            "392                    Dog Individual Spayed Female       LHASA APSO MIX              BLACK      ANNIE NARDINI     15017     2007  03-08-2007 15:11\n",
            "393                    Dog Individual Neutered Male            CHIHUAHUA              BROWN            OATMEAL     15017     2007   3/15/2007 14:18\n",
            "394                    Dog Individual Neutered Male           BEAGLE MIX  WHITE/BLACK/BROWN             DOOBIE     15017     2007   3/16/2007 13:55\n",
            "395                    Dog Individual Neutered Male    SHETLAND SHEEPDOG              BROWN             BUSTER     15017     2007   3/15/2007 15:43\n",
            "396                    Dog Individual Neutered Male           COLLIE MIX        WHITE/BROWN              CHAMP     15017     2007   3/16/2007 13:31\n",
            "397                           Dog Individual Female     AIREDALE TERRIER        BLACK/BROWN             HAILEY     15017     2007   3/19/2007 15:58\n",
            "398                    Dog Individual Neutered Male       COCKER SPANIEL        WHITE/BROWN             OLIVER     15017     2007   3/19/2007 15:58\n",
            "399  Dog Senior Citizen or Disability Spayed Female             COCKAPOO              WHITE              MOLLY     15017     2007   3/20/2007 15:12\n",
            "400                    Dog Individual Neutered Male                MIXED              BROWN             COFFEE     15017     2007   3/21/2007 13:52\n",
            "401                             Dog Individual Male       FRENCH BULLDOG        WHITE/BLACK             SPANKY     15017     2007    3/29/2007 8:39\n",
            "402                           Dog Individual Female   LABRADOR RETRIEVER              BROWN              KAIZA     15017     2007   3/29/2007 15:08\n",
            "403                    Dog Individual Neutered Male     BISHON FRISE MIX              WHITE             DEXTER     15017     2007  04-02-2007 11:48\n",
            "404                    Dog Individual Spayed Female                MIXED        WHITE/BLACK             JEWELS     15017     2007  04-02-2007 13:29\n",
            "405                    Dog Individual Spayed Female                MIXED              BLACK                ZOE     15017     2007  04-02-2007 13:29\n",
            "406  Dog Senior Citizen or Disability Spayed Female           COLLIE MIX        WHITE/BROWN               BABS     15017     2007   4/19/2007 10:57\n",
            "407                    Dog Individual Neutered Male   LABRADOR RETRIEVER             YELLOW             BAYLEE     15017     2007  12/28/2006 10:42\n",
            "408                    Dog Individual Neutered Male         BICHON FRISE              WHITE              LEROY     15017     2007   2/16/2007 15:34\n",
            "409                    Dog Individual Neutered Male         BICHON FRISE              WHITE              BUBBA     15017     2007   2/16/2007 15:34\n",
            "410                    Dog Individual Neutered Male              LAB MIX              BLACK                JAX     15017     2007   6/20/2007 15:46\n",
            "411                    Dog Individual Neutered Male                MIXED             BLONDE             BAXTER     15017     2007   6/21/2007 13:41\n",
            "412                           Dog Individual Female             SHIH TZU              BROWN           ALLELUIA     15017     2007   6/21/2007 13:41\n",
            "413                    Dog Individual Neutered Male   YORKSHIRE TERR MIX              BROWN              BUTCH     15017     2007    3/29/2007 8:51\n",
            "414                    Dog Individual Neutered Male            SHIBA INU              WHITE               JAKE     15017     2007  03-07-2007 08:45\n",
            "415                             Dog Individual Male                MIXED            BRINDLE              BUDDY     15017     2007   2/20/2007 12:26\n",
            "416                    Dog Individual Neutered Male         GER SHEPHERD          BLACK/TAN               DANE     15017     2007   4/17/2007 16:10\n",
            "417                    Dog Individual Neutered Male             PEEKAPOO              BLACK               CODI     15017     2007   4/17/2007 16:10\n",
            "418                    Dog Individual Neutered Male             PEEKAPOO              BLACK              TYLER     15017     2007   4/17/2007 16:10\n",
            "419                    Dog Individual Spayed Female           BEAGLE MIX                TAN             BAILEY     15017     2007  01-11-2007 14:16\n",
            "420                    Dog Individual Spayed Female     GOLDEN RETRIEVER               GOLD             CUTTER     15017     2007  01-11-2007 14:51\n",
            "421                    Dog Individual Spayed Female                MIXED              BLACK            JASMINE     15017     2007  03-08-2007 11:20\n",
            "422                           Dog Individual Female   LABRADOR RETRIEVER              BLACK           ISABELLE     15017     2007   1/30/2007 15:28\n",
            "423                    Dog Individual Neutered Male           ROTTWEILER        BLACK/BROWN           AUTO MAC     15017     2007   5/22/2007 13:50\n",
            "424                           Dog Individual Female    ITALIAN GREYHOUND         WHITE/GREY             SIDNEY     15017     2007   2/21/2007 11:15\n",
            "425                             Dog Individual Male                  PUG              BLACK          DILLINGER     15017     2007  01-12-2007 10:35\n",
            "426                             Dog Individual Male          ENG BULLDOG        WHITE/BROWN             JUNIOR     15017     2007  03-08-2007 11:20\n",
            "427                    Dog Individual Spayed Female     GOLDEN RETRIEVER               GOLD      NITTANY MOLLY     15017     2007   2/13/2007 11:08\n",
            "428                             Dog Individual Male     BRITTANY SPANIEL       ORANGE/WHITE            BRISTOL     15017     2007  03-08-2007 11:20\n",
            "429                    Dog Individual Neutered Male    YORKSHIRE TERRIER              BLACK              ELVIS     15017     2007   5/17/2007 16:03\n",
            "430                    Dog Individual Neutered Male                MIXED                TAN             CURTIS     15017     2007   2/28/2007 14:50\n",
            "431                    Dog Individual Spayed Female             COCKAPOO               BUFF               MADY     15017     2007  01-12-2007 08:44\n",
            "432                           Dog Individual Female  AM PIT BULL TERRIER              BLACK           BROOKLYN     15017     2007  10-04-2007 15:56\n",
            "433                           Dog Individual Female  AM PIT BULL TERRIER              WHITE              PEARL     15017     2007  10-04-2007 15:56\n",
            "434                    Dog Individual Spayed Female   LABRADOR RETRIEVER             YELLOW             JESSIE     15017     2007   3/28/2007 14:12\n",
            "435                    Dog Individual Spayed Female     GOLDEN RETRIEVER               GOLD              BELLA     15017     2007   1/24/2007 15:58\n",
            "436                    Dog Individual Spayed Female                MIXED        WHITE/BLACK               KOHL     15017     2007  05-04-2007 15:37\n",
            "437                    Dog Individual Neutered Male               BEAGLE            SPOTTED              WYATT     15017     2007   1/24/2007 16:03\n",
            "438                    Dog Individual Spayed Female  W HGHLND WH TERRIER              WHITE             KIZZLE     15017     2007  12/13/2006 11:30\n",
            "439                    Dog Individual Neutered Male           POODLE MIX              BLACK              OLLIE     15017     2007  12-12-2006 15:41\n",
            "440                    Dog Individual Neutered Male                MIXED              BROWN             BENTLY     15017     2007   1/19/2007 15:20\n",
            "441                           Dog Individual Female                MIXED          WHITE/TAN             BAILEE     15017     2007   5/18/2007 14:42\n",
            "442                             Dog Individual Male   SCHNAUZER STANDARD        SALT/PEPPER              TEDDY     15017     2007  05-08-2007 14:35\n",
            "443                    Dog Individual Neutered Male   LABRADOR RETRIEVER              BROWN              MOCHA     15017     2007  05-09-2007 14:00\n",
            "444                    Dog Individual Neutered Male     AM PITT BULL MIX  WHITE/BLACK/BROWN             BUSTER     15017     2007   5/22/2007 12:02\n",
            "445                           Dog Individual Female   LABRADOR RETRIEVER             YELLOW            ALLEGRA     15017     2007  06-06-2007 15:30\n",
            "446                             Dog Individual Male   LABRADOR RETRIEVER             YELLOW               NEKO     15017     2007   6/20/2007 14:14\n",
            "447                           Dog Individual Female             COCKAPOO              BROWN      ABBIE NARDINI     15017     2007   6/22/2007 15:35\n",
            "448                    Dog Individual Spayed Female         GER SHEPHERD        BLACK/BROWN                ZOE     15017     2007   6/22/2007 15:35\n",
            "449                    Dog Individual Neutered Male     GER SHEPHERD MIX              BLACK              BRUNO     15017     2007  06-05-2007 15:23\n",
            "450                    Dog Individual Neutered Male               COLLIE        WHITE/BROWN             BAILEY     15017     2007  05-07-2007 10:44\n",
            "451                    Dog Individual Spayed Female              LAB MIX              BLACK               MIKA     15017     2007  05-07-2007 10:44\n",
            "452                    Dog Individual Neutered Male            DALMATIAN            SPOTTED             TREVOR     15017     2007   4/18/2007 14:26\n",
            "453                    Dog Individual Spayed Female            DALMATIAN            SPOTTED                ANN     15017     2007   4/18/2007 14:26\n",
            "454                    Dog Individual Neutered Male            DALMATIAN            SPOTTED                DAN     15017     2007   4/18/2007 14:26\n",
            "455  Dog Senior Citizen or Disability Neutered Male             PEEKAPOO         BLACK/GREY           WEICKETT     15017     2007   4/19/2007 15:16\n",
            "456                    Dog Individual Spayed Female          MALTESE MIX              WHITE               ZOEY     15017     2007  04-12-2007 14:42\n",
            "457  Dog Senior Citizen or Disability Spayed Female           LHASA APSO                TAN            BUTTONS     15017     2007  04-03-2007 15:25\n",
            "458                    Dog Individual Spayed Female  GER SHORTHAIR POINT              OTHER              GRETA     15017     2007   4/13/2007 12:18\n",
            "459                    Dog Individual Spayed Female            DALMATIAN            SPOTTED              SADIE     15017     2007   4/16/2007 15:40\n",
            "460                    Dog Individual Spayed Female              MALTESE              WHITE              CHLOE     15017     2007   4/18/2007 10:57\n",
            "461  Dog Senior Citizen or Disability Spayed Female       BOSTON TERRIER        WHITE/BLACK             MAGGIE     15017     2007  07-03-2007 12:00\n",
            "462  Dog Senior Citizen or Disability Spayed Female            CHIHUAHUA        WHITE/BROWN          BABY GIRL     15017     2007  07-03-2007 12:00\n",
            "463                    Dog Individual Neutered Male             COCKAPOO              BROWN               KODA     15017     2007  07-05-2007 13:34\n",
            "464                    Dog Individual Neutered Male             SHIH TZU  WHITE/BLACK/BROWN            CHARLIE     15017     2007   6/28/2007 13:10\n",
            "465                    Dog Individual Spayed Female  W HGHLND WH TERRIER              WHITE              CHLOE     15017     2007   6/28/2007 13:35\n",
            "466                             Dog Individual Male   LABRADOR RETRIEVER          CHOCOLATE              MOCHA     15017     2007   7/31/2007 13:40\n",
            "467                    Dog Individual Spayed Female       COCKER SPANIEL              BLACK              TABBY     15017     2007  08-06-2007 16:05\n",
            "468                           Dog Individual Female               BEAGLE  WHITE/BLACK/BROWN              MOLLY     15017     2007   8/13/2007 10:42\n",
            "469                    Dog Individual Spayed Female  W HGHLND WH TERRIER              WHITE             KIZZLE     15017     2007   9/25/2007 15:23\n",
            "470                           Dog Individual Female     AIREDALE TERRIER          BLACK/TAN             LONDON     15017     2007   9/24/2007 13:04\n",
            "471                    Dog Individual Neutered Male   GOLDEN RETRIEV MIX              BLACK              BUDDY     15017     2007   9/24/2007 14:18\n",
            "472  Dog Senior Citizen or Disability Neutered Male   LABRADOR RETRIEVER              BROWN             BAILEY     15017     2007   9/25/2007 14:19\n",
            "473                           Dog Individual Female      ENGLISH MASTIFF            BRINDLE         CINDERELLA     15017     2007  10-09-2007 14:44\n",
            "474                    Dog Individual Neutered Male   MANCHESTER TERRIER          BLACK/TAN              MANDY     15017     2007   4/23/2007 14:32\n",
            "475                    Dog Individual Spayed Female            DACHSHUND          BLACK/TAN              HOLLY     15017     2007   4/23/2007 14:32\n",
            "476                    Dog Individual Spayed Female       COCKER SPANIEL          BLACK/TAN              JOZIE     15017     2007  03-01-2007 16:07\n",
            "477                           Dog Individual Female              MASTIFF               FAWN              BELLE     15017     2007   5/29/2007 15:19\n",
            "478  Dog Senior Citizen or Disability Neutered Male          TERRIER MIX          BROWN/TAN              BENJI     15017     2007   4/26/2007 13:49\n",
            "479                    Dog Individual Spayed Female                MIXED        BLACK/BROWN               TESS     15017     2007    3/14/2007 8:25\n",
            "480                    Dog Individual Spayed Female              LAB MIX              BROWN              BUFFY     15017     2007   4/30/2007 10:34\n",
            "481                    Dog Individual Spayed Female   LABRADOR RETRIEVER              BLACK              CASEY     15017     2007   4/30/2007 10:34\n",
            "482                    Dog Individual Spayed Female               BEAGLE            SPOTTED              CAPER     15017     2007   4/26/2007 15:05\n",
            "483                    Dog Individual Neutered Male                MIXED              BLACK              BUDDY     15017     2007   4/25/2007 14:59\n",
            "484                    Dog Individual Neutered Male    SHETLAND SHEEPDOG        WHITE/BROWN               JAKE     15017     2007    2/23/2007 9:08\n",
            "485                             Dog Individual Male              LAB MIX                TAN            JACKSON     15017     2007  10/23/2007 15:23\n",
            "486                    Dog Individual Spayed Female         SHEPHERD MIX          RED/BROWN               KIRA     15017     2007  03-06-2007 08:51\n",
            "487                    Dog Individual Neutered Male         SHEPHERD MIX        BLACK/BROWN             DIESEL     15017     2007  03-06-2007 08:51\n",
            "488                    Dog Individual Neutered Male                MIXED        WHITE/LIVER            MURDOCK     15017     2007  12/18/2006 13:05\n",
            "489                    Dog Individual Neutered Male   SCHNAUZER STANDARD              WHITE             TRAVIS     15017     2007  01-04-2007 13:59\n",
            "490                    Dog Individual Neutered Male        SIB HUSKY MIX        BLACK/BROWN             HARLEY     15017     2007  01-04-2007 13:59\n",
            "491                    Dog Individual Neutered Male   LABRADOR RETRIEVER              BLACK              SCOUT     15017     2007  01-04-2007 13:59\n",
            "492                    Dog Individual Neutered Male              TERRIER              CREAM             WILLIE     15017     2007  01-04-2007 13:59\n",
            "493                    Dog Individual Neutered Male                MIXED              BROWN          TALAMASCA     15017     2007   5/31/2007 10:42\n",
            "494                    Dog Individual Neutered Male                MIXED        BLACK/BROWN              BUDDY     15017     2007   5/29/2007 10:19\n",
            "495                    Dog Individual Spayed Female            DALMATIAN            SPOTTED          LADY STAR     15017     2007   7/16/2007 11:19\n",
            "496                             Dog Individual Male      BORD COLLIE MIX        WHITE/BLACK              ANGUS     15017     2007  03-01-2007 16:07\n",
            "497                    Dog Individual Spayed Female         BICHON FRISE              WHITE                ZOE     15017     2007  10/16/2007 12:42]\n"
          ],
          "name": "stdout"
        }
      ]
    },
    {
      "cell_type": "markdown",
      "metadata": {
        "id": "WasDXsO8c8W1",
        "colab_type": "text"
      },
      "source": [
        "TRAIN THE NER MODEL"
      ]
    },
    {
      "cell_type": "code",
      "metadata": {
        "id": "BQlkJQEFZiV1",
        "colab_type": "code",
        "colab": {
          "base_uri": "https://localhost:8080/",
          "height": 137
        },
        "outputId": "b943b52c-ac18-4753-bacb-e85df921e20c"
      },
      "source": [
        "\"\"\"from __future__ import unicode_literals, print_function\n",
        "\n",
        "import plac\n",
        "import random\n",
        "import warnings\n",
        "from pathlib import Path\n",
        "import spacy\n",
        "from spacy.util import minibatch, compounding\n",
        "model=None\n",
        "n_iter=10\n",
        "def train_ner(training_data):\n",
        "    TRAIN_DATA=training_data\n",
        "    nlp= spacy.blank(\"en\")  # create blank Language class\n",
        "    print(\"Created blank 'en' model\")\n",
        "\n",
        "    # create the built-in pipeline components and add them to the pipeline\n",
        "    # nlp.create_pipe works for built-ins that are registered with spaCy\n",
        "    if \"ner\" not in nlp0.pipe_names:\n",
        "        ner = nlp.create_pipe(\"ner\")\n",
        "        nlp.add_pipe(ner, last=True)\n",
        "    # otherwise, get it so we can add labels\n",
        "    else:\n",
        "        ner = nlp.get_pipe(\"ner\")\n",
        "\n",
        "    # add labels\n",
        "    for _, annotations in TRAIN_DATA:\n",
        "        for ent in annotations.get(\"entities\"):\n",
        "            ner.add_label(ent[2])\n",
        "\n",
        "    # get names of other pipes to disable them during training\n",
        "    pipe_exceptions = [\"ner\", \"trf_wordpiecer\", \"trf_tok2vec\"]\n",
        "    other_pipes = [pipe for pipe in nlp.pipe_names if pipe not in pipe_exceptions]\n",
        "    # only train NER\n",
        "    with nlp0.disable_pipes(*other_pipes), warnings.catch_warnings():\n",
        "        # show warnings for misaligned entity spans once\n",
        "        warnings.filterwarnings(\"once\", category=UserWarning, module='spacy')\n",
        "\n",
        "        # reset and initialize the weights randomly – but only if we're\n",
        "        # training a new model\n",
        "        if model is None:\n",
        "            nlp.begin_training()\n",
        "        for itn in range(n_iter):\n",
        "            random.shuffle(TRAIN_DATA)\n",
        "            losses = {}\n",
        "            # batch up the examples using spaCy's minibatch\n",
        "            batches = minibatch(TRAIN_DATA, size=compounding(4.0, 32.0, 1.001))\n",
        "            for batch in batches:\n",
        "                texts, annotations = zip(*batch)\n",
        "                nlp.update(\n",
        "                    texts,  # batch of texts\n",
        "                    annotations,  # batch of annotations\n",
        "                    drop=0.5,  # dropout - make it harder to memorise data\n",
        "                    losses=losses,\n",
        "                )\n",
        "            print(\"Losses\", losses)\n",
        "        return nlp  \"\"\"\n",
        "   \n",
        "\n",
        "    "
      ],
      "execution_count": null,
      "outputs": [
        {
          "output_type": "execute_result",
          "data": {
            "application/vnd.google.colaboratory.intrinsic+json": {
              "type": "string"
            },
            "text/plain": [
              "'from __future__ import unicode_literals, print_function\\n\\nimport plac\\nimport random\\nimport warnings\\nfrom pathlib import Path\\nimport spacy\\nfrom spacy.util import minibatch, compounding\\nmodel=None\\nn_iter=10\\ndef train_ner(training_data):\\n    TRAIN_DATA=training_data\\n    nlp= spacy.blank(\"en\")  # create blank Language class\\n    print(\"Created blank \\'en\\' model\")\\n\\n    # create the built-in pipeline components and add them to the pipeline\\n    # nlp.create_pipe works for built-ins that are registered with spaCy\\n    if \"ner\" not in nlp0.pipe_names:\\n        ner = nlp.create_pipe(\"ner\")\\n        nlp.add_pipe(ner, last=True)\\n    # otherwise, get it so we can add labels\\n    else:\\n        ner = nlp.get_pipe(\"ner\")\\n\\n    # add labels\\n    for _, annotations in TRAIN_DATA:\\n        for ent in annotations.get(\"entities\"):\\n            ner.add_label(ent[2])\\n\\n    # get names of other pipes to disable them during training\\n    pipe_exceptions = [\"ner\", \"trf_wordpiecer\", \"trf_tok2vec\"]\\n    other_pipes = [pipe for pipe in nlp.pipe_names if pipe not in pipe_exceptions]\\n    # only train NER\\n    with nlp0.disable_pipes(*other_pipes), warnings.catch_warnings():\\n        # show warnings for misaligned entity spans once\\n        warnings.filterwarnings(\"once\", category=UserWarning, module=\\'spacy\\')\\n\\n        # reset and initialize the weights randomly – but only if we\\'re\\n        # training a new model\\n        if model is None:\\n            nlp.begin_training()\\n        for itn in range(n_iter):\\n            random.shuffle(TRAIN_DATA)\\n            losses = {}\\n            # batch up the examples using spaCy\\'s minibatch\\n            batches = minibatch(TRAIN_DATA, size=compounding(4.0, 32.0, 1.001))\\n            for batch in batches:\\n                texts, annotations = zip(*batch)\\n                nlp.update(\\n                    texts,  # batch of texts\\n                    annotations,  # batch of annotations\\n                    drop=0.5,  # dropout - make it harder to memorise data\\n                    losses=losses,\\n                )\\n            print(\"Losses\", losses)\\n        return nlp  '"
            ]
          },
          "metadata": {
            "tags": []
          },
          "execution_count": 74
        }
      ]
    },
    {
      "cell_type": "code",
      "metadata": {
        "id": "DnU_rjTl_N-6",
        "colab_type": "code",
        "colab": {
          "base_uri": "https://localhost:8080/",
          "height": 479
        },
        "outputId": "544c5e75-e676-4008-c34c-d44167555cc5"
      },
      "source": [
        "\n",
        "\n",
        "\n",
        "from __future__ import unicode_literals, print_function\n",
        "\n",
        "import plac\n",
        "import random\n",
        "import warnings\n",
        "from pathlib import Path\n",
        "import spacy\n",
        "from spacy.util import minibatch, compounding\n",
        "add_ents=None\n",
        "\n",
        "model = None # Since we are training a fresh model not a saved model\n",
        "n_iter = 20\n",
        "def train_ner(training_data):\n",
        "    TRAIN_DATA=training_data\n",
        "    nlp= spacy.blank(\"en\")  # create blank Language class\n",
        "    print(\"Created blank 'en' model\")\n",
        "# Piplines in core pretrained model are tagger, parser, ner. Create new if blank model is to be trained using `spacy.blank('en')` else get the existing one.\n",
        "if \"ner\" not in nlp.pipe_names:\n",
        "    ner = nlp.create_pipe(\"ner\") # \"architecture\": \"ensemble\" simple_cnn ensemble, bow # https://spacy.io/api/annotation\n",
        "    nlp.add_pipe(ner)\n",
        "else:\n",
        "    ner = nlp.get_pipe(\"ner\")\n",
        "prev_ents = ner.move_names # All the existing entities recognised by the model\n",
        "print('[Existing Entities] = ', ner.move_names)\n",
        "#for ent in add_ents:\n",
        " #   ner.add_label(ent)\n",
        "    \n",
        "new_ents = ner.move_names\n",
        "print('\\n[All Entities] = ', ner.move_names)\n",
        "print('\\n\\n[New Entities] = ', list(set(new_ents) - set(prev_ents)))\n",
        "## Training\n",
        "\n",
        "with nlp.disable_pipes('tagger','parser'):  # only train ner\n",
        "     #optimizer = nlp.begin_training()\n",
        "    if model is None:\n",
        "        optimizer = nlp.begin_training()\n",
        "    else:\n",
        "        optimizer = nlp.resume_training()\n",
        "    for i in range(n_iter):\n",
        "        losses = {}\n",
        "        nlp.update(X, Y,  sgd=optimizer, drop=0.5, losses=losses)\n",
        "        # nlp.entity.update(d, g)\n",
        "        print(\"Losses\", losses)"
      ],
      "execution_count": null,
      "outputs": [
        {
          "output_type": "stream",
          "text": [
            "[Existing Entities] =  ['B-ORG', 'B-DATE', 'B-PERSON', 'B-GPE', 'B-MONEY', 'B-CARDINAL', 'B-NORP', 'B-PERCENT', 'B-WORK_OF_ART', 'B-LOC', 'B-TIME', 'B-QUANTITY', 'B-FAC', 'B-EVENT', 'B-ORDINAL', 'B-PRODUCT', 'B-LAW', 'B-LANGUAGE', 'I-ORG', 'I-DATE', 'I-PERSON', 'I-GPE', 'I-MONEY', 'I-CARDINAL', 'I-NORP', 'I-PERCENT', 'I-WORK_OF_ART', 'I-LOC', 'I-TIME', 'I-QUANTITY', 'I-FAC', 'I-EVENT', 'I-ORDINAL', 'I-PRODUCT', 'I-LAW', 'I-LANGUAGE', 'L-ORG', 'L-DATE', 'L-PERSON', 'L-GPE', 'L-MONEY', 'L-CARDINAL', 'L-NORP', 'L-PERCENT', 'L-WORK_OF_ART', 'L-LOC', 'L-TIME', 'L-QUANTITY', 'L-FAC', 'L-EVENT', 'L-ORDINAL', 'L-PRODUCT', 'L-LAW', 'L-LANGUAGE', 'U-ORG', 'U-DATE', 'U-PERSON', 'U-GPE', 'U-MONEY', 'U-CARDINAL', 'U-NORP', 'U-PERCENT', 'U-WORK_OF_ART', 'U-LOC', 'U-TIME', 'U-QUANTITY', 'U-FAC', 'U-EVENT', 'U-ORDINAL', 'U-PRODUCT', 'U-LAW', 'U-LANGUAGE', 'O']\n",
            "\n",
            "[All Entities] =  ['B-ORG', 'B-DATE', 'B-PERSON', 'B-GPE', 'B-MONEY', 'B-CARDINAL', 'B-NORP', 'B-PERCENT', 'B-WORK_OF_ART', 'B-LOC', 'B-TIME', 'B-QUANTITY', 'B-FAC', 'B-EVENT', 'B-ORDINAL', 'B-PRODUCT', 'B-LAW', 'B-LANGUAGE', 'I-ORG', 'I-DATE', 'I-PERSON', 'I-GPE', 'I-MONEY', 'I-CARDINAL', 'I-NORP', 'I-PERCENT', 'I-WORK_OF_ART', 'I-LOC', 'I-TIME', 'I-QUANTITY', 'I-FAC', 'I-EVENT', 'I-ORDINAL', 'I-PRODUCT', 'I-LAW', 'I-LANGUAGE', 'L-ORG', 'L-DATE', 'L-PERSON', 'L-GPE', 'L-MONEY', 'L-CARDINAL', 'L-NORP', 'L-PERCENT', 'L-WORK_OF_ART', 'L-LOC', 'L-TIME', 'L-QUANTITY', 'L-FAC', 'L-EVENT', 'L-ORDINAL', 'L-PRODUCT', 'L-LAW', 'L-LANGUAGE', 'U-ORG', 'U-DATE', 'U-PERSON', 'U-GPE', 'U-MONEY', 'U-CARDINAL', 'U-NORP', 'U-PERCENT', 'U-WORK_OF_ART', 'U-LOC', 'U-TIME', 'U-QUANTITY', 'U-FAC', 'U-EVENT', 'U-ORDINAL', 'U-PRODUCT', 'U-LAW', 'U-LANGUAGE', 'O']\n",
            "\n",
            "\n",
            "[New Entities] =  []\n",
            "Losses {'ner': 0.0}\n",
            "Losses {'ner': 0.0}\n",
            "Losses {'ner': 0.0}\n",
            "Losses {'ner': 0.0}\n",
            "Losses {'ner': 0.0}\n",
            "Losses {'ner': 0.0}\n",
            "Losses {'ner': 0.0}\n",
            "Losses {'ner': 0.0}\n",
            "Losses {'ner': 0.0}\n",
            "Losses {'ner': 0.0}\n",
            "Losses {'ner': 0.0}\n",
            "Losses {'ner': 0.0}\n",
            "Losses {'ner': 0.0}\n",
            "Losses {'ner': 0.0}\n",
            "Losses {'ner': 0.0}\n",
            "Losses {'ner': 0.0}\n",
            "Losses {'ner': 0.0}\n",
            "Losses {'ner': 0.0}\n",
            "Losses {'ner': 0.0}\n",
            "Losses {'ner': 0.0}\n"
          ],
          "name": "stdout"
        }
      ]
    },
    {
      "cell_type": "code",
      "metadata": {
        "id": "7ZNQEBxche8U",
        "colab_type": "code",
        "colab": {
          "base_uri": "https://localhost:8080/",
          "height": 34
        },
        "outputId": "d7c923be-7f01-4339-9a25-607304f8b5e0"
      },
      "source": [
        "# training \n",
        "\n",
        "import warnings\n",
        "nlp2=spacy.load('en_core_web_sm')\n",
        "nlp2=train_ner(TRAIN_DATA)\n"
      ],
      "execution_count": null,
      "outputs": [
        {
          "output_type": "stream",
          "text": [
            "Created blank 'en' model\n"
          ],
          "name": "stdout"
        }
      ]
    },
    {
      "cell_type": "code",
      "metadata": {
        "id": "xcLMlNTJD3Wa",
        "colab_type": "code",
        "colab": {
          "base_uri": "https://localhost:8080/",
          "height": 35
        },
        "outputId": "3a3f2a4d-6afa-46cf-d8b5-3c4ea2d5caa3"
      },
      "source": [
        "ex1\n"
      ],
      "execution_count": null,
      "outputs": [
        {
          "output_type": "execute_result",
          "data": {
            "application/vnd.google.colaboratory.intrinsic+json": {
              "type": "string"
            },
            "text/plain": [
              "'james went to london to buy BICHON FRISE last year 2019'"
            ]
          },
          "metadata": {
            "tags": []
          },
          "execution_count": 77
        }
      ]
    },
    {
      "cell_type": "code",
      "metadata": {
        "id": "oXxw9ZnXFBrB",
        "colab_type": "code",
        "colab": {
          "base_uri": "https://localhost:8080/",
          "height": 34
        },
        "outputId": "8a25b3a5-f135-40aa-e41f-8d370c6d3e93"
      },
      "source": [
        "nlp2=spacy.load('en_core_web_sm')\n",
        "docx2=nlp2(ex1)\n",
        "docx2"
      ],
      "execution_count": null,
      "outputs": [
        {
          "output_type": "execute_result",
          "data": {
            "text/plain": [
              "james went to london to buy BICHON FRISE last year 2019"
            ]
          },
          "metadata": {
            "tags": []
          },
          "execution_count": 78
        }
      ]
    },
    {
      "cell_type": "code",
      "metadata": {
        "id": "YrmTwK0DFQyq",
        "colab_type": "code",
        "colab": {
          "base_uri": "https://localhost:8080/",
          "height": 120
        },
        "outputId": "9cf396b6-14ba-48d7-85d3-122e533bafd7"
      },
      "source": [
        "for entity in docx2.ents:\n",
        "  print(entity,entity.label_)\n",
        "from spacy import displacy\n",
        "displacy.render(docx2,style='ent',jupyter=True)\n",
        "\n",
        "\n"
      ],
      "execution_count": null,
      "outputs": [
        {
          "output_type": "stream",
          "text": [
            "james PERSON\n",
            "london GPE\n",
            "BICHON FRISE ORG\n",
            "last year 2019 DATE\n"
          ],
          "name": "stdout"
        },
        {
          "output_type": "display_data",
          "data": {
            "text/html": [
              "<span class=\"tex2jax_ignore\"><div class=\"entities\" style=\"line-height: 2.5; direction: ltr\">\n",
              "<mark class=\"entity\" style=\"background: #aa9cfc; padding: 0.45em 0.6em; margin: 0 0.25em; line-height: 1; border-radius: 0.35em;\">\n",
              "    james\n",
              "    <span style=\"font-size: 0.8em; font-weight: bold; line-height: 1; border-radius: 0.35em; text-transform: uppercase; vertical-align: middle; margin-left: 0.5rem\">PERSON</span>\n",
              "</mark>\n",
              " went to \n",
              "<mark class=\"entity\" style=\"background: #feca74; padding: 0.45em 0.6em; margin: 0 0.25em; line-height: 1; border-radius: 0.35em;\">\n",
              "    london\n",
              "    <span style=\"font-size: 0.8em; font-weight: bold; line-height: 1; border-radius: 0.35em; text-transform: uppercase; vertical-align: middle; margin-left: 0.5rem\">GPE</span>\n",
              "</mark>\n",
              " to buy \n",
              "<mark class=\"entity\" style=\"background: #7aecec; padding: 0.45em 0.6em; margin: 0 0.25em; line-height: 1; border-radius: 0.35em;\">\n",
              "    BICHON FRISE\n",
              "    <span style=\"font-size: 0.8em; font-weight: bold; line-height: 1; border-radius: 0.35em; text-transform: uppercase; vertical-align: middle; margin-left: 0.5rem\">ORG</span>\n",
              "</mark>\n",
              " \n",
              "<mark class=\"entity\" style=\"background: #bfe1d9; padding: 0.45em 0.6em; margin: 0 0.25em; line-height: 1; border-radius: 0.35em;\">\n",
              "    last year 2019\n",
              "    <span style=\"font-size: 0.8em; font-weight: bold; line-height: 1; border-radius: 0.35em; text-transform: uppercase; vertical-align: middle; margin-left: 0.5rem\">DATE</span>\n",
              "</mark>\n",
              "</div></span>"
            ],
            "text/plain": [
              "<IPython.core.display.HTML object>"
            ]
          },
          "metadata": {
            "tags": []
          }
        }
      ]
    },
    {
      "cell_type": "code",
      "metadata": {
        "id": "Bm7HEa-xHs0s",
        "colab_type": "code",
        "colab": {
          "base_uri": "https://localhost:8080/",
          "height": 34
        },
        "outputId": "c2b31528-0f83-4094-9c6c-410d89555d22"
      },
      "source": [
        "#test\n",
        "nlp2=spacy.load('en_core_web_sm')\n",
        "for text,_in  in TRAIN_DATA[:5]:\n",
        "  doc=nlp2(text)\n",
        "  result=[(ent,ent.label_) for ent in doc.ents]\n",
        "  print(result)\n"
      ],
      "execution_count": null,
      "outputs": [
        {
          "output_type": "stream",
          "text": [
            "[(bichon frise, 'PERSON')]\n"
          ],
          "name": "stdout"
        }
      ]
    },
    {
      "cell_type": "code",
      "metadata": {
        "id": "eggkbZcAcpQl",
        "colab_type": "code",
        "colab": {}
      },
      "source": [
        ""
      ],
      "execution_count": null,
      "outputs": []
    },
    {
      "cell_type": "code",
      "metadata": {
        "id": "CZEezJ07cpbM",
        "colab_type": "code",
        "colab": {}
      },
      "source": [
        ""
      ],
      "execution_count": null,
      "outputs": []
    },
    {
      "cell_type": "code",
      "metadata": {
        "id": "QCfoIbgVcpOY",
        "colab_type": "code",
        "colab": {}
      },
      "source": [
        ""
      ],
      "execution_count": null,
      "outputs": []
    },
    {
      "cell_type": "code",
      "metadata": {
        "id": "U0_SXXo-cpIb",
        "colab_type": "code",
        "colab": {}
      },
      "source": [
        ""
      ],
      "execution_count": null,
      "outputs": []
    },
    {
      "cell_type": "code",
      "metadata": {
        "id": "J3MwTHwNcpB-",
        "colab_type": "code",
        "colab": {}
      },
      "source": [
        ""
      ],
      "execution_count": null,
      "outputs": []
    }
  ]
}